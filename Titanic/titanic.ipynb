{
 "cells": [
  {
   "cell_type": "markdown",
   "id": "b016edcb-d403-4361-8b63-ed4dfa297946",
   "metadata": {},
   "source": [
    "# Import libraries"
   ]
  },
  {
   "cell_type": "code",
   "execution_count": 1,
   "id": "6f2cdf75-9c8b-47f4-a8af-ced44cec4ffd",
   "metadata": {},
   "outputs": [],
   "source": [
    "import pandas as pd\n",
    "import numpy as np\n",
    "import sklearn as sk"
   ]
  },
  {
   "cell_type": "code",
   "execution_count": 2,
   "id": "f458368c-e567-4070-a4bc-9a4340ff541c",
   "metadata": {},
   "outputs": [
    {
     "name": "stdout",
     "output_type": "stream",
     "text": [
      "Pandas: 2.0.2 | NumPy: 1.24.3 | Scikit-learn: 1.2.2\n"
     ]
    }
   ],
   "source": [
    "print(\"Pandas: \" + pd.__version__, \"NumPy: \" + np.__version__,  \"Scikit-learn: \" + sk.__version__, sep=\" | \")"
   ]
  },
  {
   "cell_type": "code",
   "execution_count": 3,
   "id": "f6ae423b-d0a6-462c-9455-94261d9f392b",
   "metadata": {},
   "outputs": [],
   "source": [
    "from sklearn.model_selection import train_test_split\n",
    "from sklearn.pipeline import Pipeline\n",
    "from sklearn.compose import ColumnTransformer\n",
    "from sklearn.preprocessing import MinMaxScaler, OneHotEncoder, StandardScaler\n",
    "from sklearn.svm import SVC\n",
    "from sklearn.metrics import confusion_matrix, accuracy_score, precision_score, recall_score"
   ]
  },
  {
   "cell_type": "markdown",
   "id": "25a74a7f-6d81-4e52-b96b-2b25218d7b9f",
   "metadata": {},
   "source": [
    "# Load data"
   ]
  },
  {
   "cell_type": "code",
   "execution_count": 4,
   "id": "e27e119b-cf2f-4938-898e-a959662f77e8",
   "metadata": {},
   "outputs": [
    {
     "data": {
      "text/html": [
       "<div>\n",
       "<style scoped>\n",
       "    .dataframe tbody tr th:only-of-type {\n",
       "        vertical-align: middle;\n",
       "    }\n",
       "\n",
       "    .dataframe tbody tr th {\n",
       "        vertical-align: top;\n",
       "    }\n",
       "\n",
       "    .dataframe thead th {\n",
       "        text-align: right;\n",
       "    }\n",
       "</style>\n",
       "<table border=\"1\" class=\"dataframe\">\n",
       "  <thead>\n",
       "    <tr style=\"text-align: right;\">\n",
       "      <th></th>\n",
       "      <th>PassengerId</th>\n",
       "      <th>Survived</th>\n",
       "      <th>Pclass</th>\n",
       "      <th>Name</th>\n",
       "      <th>Sex</th>\n",
       "      <th>Age</th>\n",
       "      <th>SibSp</th>\n",
       "      <th>Parch</th>\n",
       "      <th>Ticket</th>\n",
       "      <th>Fare</th>\n",
       "      <th>Cabin</th>\n",
       "      <th>Embarked</th>\n",
       "    </tr>\n",
       "  </thead>\n",
       "  <tbody>\n",
       "    <tr>\n",
       "      <th>0</th>\n",
       "      <td>1</td>\n",
       "      <td>0</td>\n",
       "      <td>3</td>\n",
       "      <td>Braund, Mr. Owen Harris</td>\n",
       "      <td>male</td>\n",
       "      <td>22.0</td>\n",
       "      <td>1</td>\n",
       "      <td>0</td>\n",
       "      <td>A/5 21171</td>\n",
       "      <td>7.2500</td>\n",
       "      <td>NaN</td>\n",
       "      <td>S</td>\n",
       "    </tr>\n",
       "    <tr>\n",
       "      <th>1</th>\n",
       "      <td>2</td>\n",
       "      <td>1</td>\n",
       "      <td>1</td>\n",
       "      <td>Cumings, Mrs. John Bradley (Florence Briggs Th...</td>\n",
       "      <td>female</td>\n",
       "      <td>38.0</td>\n",
       "      <td>1</td>\n",
       "      <td>0</td>\n",
       "      <td>PC 17599</td>\n",
       "      <td>71.2833</td>\n",
       "      <td>C85</td>\n",
       "      <td>C</td>\n",
       "    </tr>\n",
       "    <tr>\n",
       "      <th>2</th>\n",
       "      <td>3</td>\n",
       "      <td>1</td>\n",
       "      <td>3</td>\n",
       "      <td>Heikkinen, Miss. Laina</td>\n",
       "      <td>female</td>\n",
       "      <td>26.0</td>\n",
       "      <td>0</td>\n",
       "      <td>0</td>\n",
       "      <td>STON/O2. 3101282</td>\n",
       "      <td>7.9250</td>\n",
       "      <td>NaN</td>\n",
       "      <td>S</td>\n",
       "    </tr>\n",
       "    <tr>\n",
       "      <th>3</th>\n",
       "      <td>4</td>\n",
       "      <td>1</td>\n",
       "      <td>1</td>\n",
       "      <td>Futrelle, Mrs. Jacques Heath (Lily May Peel)</td>\n",
       "      <td>female</td>\n",
       "      <td>35.0</td>\n",
       "      <td>1</td>\n",
       "      <td>0</td>\n",
       "      <td>113803</td>\n",
       "      <td>53.1000</td>\n",
       "      <td>C123</td>\n",
       "      <td>S</td>\n",
       "    </tr>\n",
       "    <tr>\n",
       "      <th>4</th>\n",
       "      <td>5</td>\n",
       "      <td>0</td>\n",
       "      <td>3</td>\n",
       "      <td>Allen, Mr. William Henry</td>\n",
       "      <td>male</td>\n",
       "      <td>35.0</td>\n",
       "      <td>0</td>\n",
       "      <td>0</td>\n",
       "      <td>373450</td>\n",
       "      <td>8.0500</td>\n",
       "      <td>NaN</td>\n",
       "      <td>S</td>\n",
       "    </tr>\n",
       "  </tbody>\n",
       "</table>\n",
       "</div>"
      ],
      "text/plain": [
       "   PassengerId  Survived  Pclass  \\\n",
       "0            1         0       3   \n",
       "1            2         1       1   \n",
       "2            3         1       3   \n",
       "3            4         1       1   \n",
       "4            5         0       3   \n",
       "\n",
       "                                                Name     Sex   Age  SibSp  \\\n",
       "0                            Braund, Mr. Owen Harris    male  22.0      1   \n",
       "1  Cumings, Mrs. John Bradley (Florence Briggs Th...  female  38.0      1   \n",
       "2                             Heikkinen, Miss. Laina  female  26.0      0   \n",
       "3       Futrelle, Mrs. Jacques Heath (Lily May Peel)  female  35.0      1   \n",
       "4                           Allen, Mr. William Henry    male  35.0      0   \n",
       "\n",
       "   Parch            Ticket     Fare Cabin Embarked  \n",
       "0      0         A/5 21171   7.2500   NaN        S  \n",
       "1      0          PC 17599  71.2833   C85        C  \n",
       "2      0  STON/O2. 3101282   7.9250   NaN        S  \n",
       "3      0            113803  53.1000  C123        S  \n",
       "4      0            373450   8.0500   NaN        S  "
      ]
     },
     "execution_count": 4,
     "metadata": {},
     "output_type": "execute_result"
    }
   ],
   "source": [
    "df = pd.read_csv(\"data/train.csv\")\n",
    "df.head()"
   ]
  },
  {
   "cell_type": "markdown",
   "id": "cda389aa-b089-49b8-bb15-d091075b8df4",
   "metadata": {},
   "source": [
    "# Data Cleaning"
   ]
  },
  {
   "cell_type": "code",
   "execution_count": 5,
   "id": "e15c8f5c-f7f0-425c-8bde-9075cd016871",
   "metadata": {},
   "outputs": [
    {
     "data": {
      "text/html": [
       "<div>\n",
       "<style scoped>\n",
       "    .dataframe tbody tr th:only-of-type {\n",
       "        vertical-align: middle;\n",
       "    }\n",
       "\n",
       "    .dataframe tbody tr th {\n",
       "        vertical-align: top;\n",
       "    }\n",
       "\n",
       "    .dataframe thead th {\n",
       "        text-align: right;\n",
       "    }\n",
       "</style>\n",
       "<table border=\"1\" class=\"dataframe\">\n",
       "  <thead>\n",
       "    <tr style=\"text-align: right;\">\n",
       "      <th></th>\n",
       "      <th>PassengerId</th>\n",
       "      <th>Survived</th>\n",
       "      <th>Pclass</th>\n",
       "      <th>Sex</th>\n",
       "      <th>Age</th>\n",
       "      <th>SibSp</th>\n",
       "      <th>Parch</th>\n",
       "      <th>Fare</th>\n",
       "      <th>Embarked</th>\n",
       "    </tr>\n",
       "  </thead>\n",
       "  <tbody>\n",
       "    <tr>\n",
       "      <th>0</th>\n",
       "      <td>1</td>\n",
       "      <td>0</td>\n",
       "      <td>3</td>\n",
       "      <td>male</td>\n",
       "      <td>22.0</td>\n",
       "      <td>1</td>\n",
       "      <td>0</td>\n",
       "      <td>7.2500</td>\n",
       "      <td>S</td>\n",
       "    </tr>\n",
       "    <tr>\n",
       "      <th>1</th>\n",
       "      <td>2</td>\n",
       "      <td>1</td>\n",
       "      <td>1</td>\n",
       "      <td>female</td>\n",
       "      <td>38.0</td>\n",
       "      <td>1</td>\n",
       "      <td>0</td>\n",
       "      <td>71.2833</td>\n",
       "      <td>C</td>\n",
       "    </tr>\n",
       "    <tr>\n",
       "      <th>2</th>\n",
       "      <td>3</td>\n",
       "      <td>1</td>\n",
       "      <td>3</td>\n",
       "      <td>female</td>\n",
       "      <td>26.0</td>\n",
       "      <td>0</td>\n",
       "      <td>0</td>\n",
       "      <td>7.9250</td>\n",
       "      <td>S</td>\n",
       "    </tr>\n",
       "    <tr>\n",
       "      <th>3</th>\n",
       "      <td>4</td>\n",
       "      <td>1</td>\n",
       "      <td>1</td>\n",
       "      <td>female</td>\n",
       "      <td>35.0</td>\n",
       "      <td>1</td>\n",
       "      <td>0</td>\n",
       "      <td>53.1000</td>\n",
       "      <td>S</td>\n",
       "    </tr>\n",
       "    <tr>\n",
       "      <th>4</th>\n",
       "      <td>5</td>\n",
       "      <td>0</td>\n",
       "      <td>3</td>\n",
       "      <td>male</td>\n",
       "      <td>35.0</td>\n",
       "      <td>0</td>\n",
       "      <td>0</td>\n",
       "      <td>8.0500</td>\n",
       "      <td>S</td>\n",
       "    </tr>\n",
       "  </tbody>\n",
       "</table>\n",
       "</div>"
      ],
      "text/plain": [
       "   PassengerId  Survived  Pclass     Sex   Age  SibSp  Parch     Fare Embarked\n",
       "0            1         0       3    male  22.0      1      0   7.2500        S\n",
       "1            2         1       1  female  38.0      1      0  71.2833        C\n",
       "2            3         1       3  female  26.0      0      0   7.9250        S\n",
       "3            4         1       1  female  35.0      1      0  53.1000        S\n",
       "4            5         0       3    male  35.0      0      0   8.0500        S"
      ]
     },
     "execution_count": 5,
     "metadata": {},
     "output_type": "execute_result"
    }
   ],
   "source": [
    "filter = [\"PassengerId\", \"Survived\", \"Pclass\", \"Sex\", \"Age\", \"SibSp\", \"Parch\", \"Fare\", \"Embarked\"]\n",
    "df = df[filter]\n",
    "mask = ((df[\"Fare\"] > 0) & (df[\"Embarked\"] != \"\") & (~df[\"Age\"].isna()) & (~df[\"Embarked\"].isna()))\n",
    "df = df[mask]\n",
    "df.head()"
   ]
  },
  {
   "cell_type": "code",
   "execution_count": 6,
   "id": "180bb65d-9f92-4755-820f-4708d3536674",
   "metadata": {},
   "outputs": [
    {
     "data": {
      "text/plain": [
       "PassengerId      int64\n",
       "Survived         int64\n",
       "Pclass           int64\n",
       "Sex             object\n",
       "Age            float64\n",
       "SibSp            int64\n",
       "Parch            int64\n",
       "Fare           float64\n",
       "Embarked        object\n",
       "dtype: object"
      ]
     },
     "execution_count": 6,
     "metadata": {},
     "output_type": "execute_result"
    }
   ],
   "source": [
    "df.dtypes"
   ]
  },
  {
   "cell_type": "code",
   "execution_count": 7,
   "id": "1a4b71d5-ff73-4098-8293-a88287ffe6dd",
   "metadata": {},
   "outputs": [
    {
     "data": {
      "text/plain": [
       "0      22.0\n",
       "1      38.0\n",
       "2      26.0\n",
       "3      35.0\n",
       "4      35.0\n",
       "       ... \n",
       "885    39.0\n",
       "886    27.0\n",
       "887    19.0\n",
       "889    26.0\n",
       "890    32.0\n",
       "Name: Age, Length: 705, dtype: float64"
      ]
     },
     "execution_count": 7,
     "metadata": {},
     "output_type": "execute_result"
    }
   ],
   "source": [
    "df[\"Age\"]"
   ]
  },
  {
   "cell_type": "markdown",
   "id": "9105b6fa-62d8-4cfb-93c2-8c538d3282c5",
   "metadata": {},
   "source": [
    "# Machine Learning Approach"
   ]
  },
  {
   "cell_type": "markdown",
   "id": "ecfe2368-e8db-47ea-aaaf-c30a092247aa",
   "metadata": {},
   "source": [
    "## Pipeline Engineering"
   ]
  },
  {
   "cell_type": "markdown",
   "id": "2f6494bc-4740-4671-a0bb-6cfc51d36d0e",
   "metadata": {},
   "source": [
    "Features and Transformer Declaration"
   ]
  },
  {
   "cell_type": "code",
   "execution_count": 8,
   "id": "b8b05cbd-94d8-4706-aaf9-38822d35b7ff",
   "metadata": {},
   "outputs": [],
   "source": [
    "numeric_features = [0, 2, 3]\n",
    "numeric_transformer = Pipeline(steps = [(\"scaler\", StandardScaler())])\n",
    "\n",
    "categorical_features = [1]\n",
    "categorical_transformer = Pipeline(steps = [(\"onehot\", OneHotEncoder(handle_unknown = \"ignore\"))])"
   ]
  },
  {
   "cell_type": "markdown",
   "id": "6cbcf2cc-b807-4a84-b98d-68f2f5f96f3f",
   "metadata": {},
   "source": [
    "Preprocessor composer"
   ]
  },
  {
   "cell_type": "code",
   "execution_count": 9,
   "id": "4000ae76-1e38-488a-950b-a9608641e00f",
   "metadata": {},
   "outputs": [],
   "source": [
    "preprocessor = ColumnTransformer(transformers = [(\"cat\", categorical_transformer, categorical_features),\n",
    "                                                 (\"num\", numeric_transformer, numeric_features)])"
   ]
  },
  {
   "cell_type": "markdown",
   "id": "686d97af-677f-46eb-b3d3-9145a7058c3e",
   "metadata": {},
   "source": [
    "Pipeline Initialization"
   ]
  },
  {
   "cell_type": "code",
   "execution_count": 62,
   "id": "2fcdbfae-5706-48d0-835a-3577e244d4b8",
   "metadata": {},
   "outputs": [],
   "source": [
    "pipeline = Pipeline(steps = [(\"preprocessing\", preprocessor), (\"SupportVectorClassifier\", SVC(C = 0.85, gamma = \"auto\"))])"
   ]
  },
  {
   "cell_type": "markdown",
   "id": "86829e7d-6fa2-42eb-b175-03d479f47c30",
   "metadata": {},
   "source": [
    "## Model Training"
   ]
  },
  {
   "cell_type": "markdown",
   "id": "c404fc0c-aa4e-4fff-b86b-b9f7445d9a70",
   "metadata": {},
   "source": [
    "Data split"
   ]
  },
  {
   "cell_type": "code",
   "execution_count": 63,
   "id": "719e7189-4747-4b17-b3a4-994eb2c1e8e1",
   "metadata": {},
   "outputs": [],
   "source": [
    "y = df[\"Survived\"]\n",
    "x = df[[\"Pclass\", \"Sex\", \"Age\", \"Fare\"]]"
   ]
  },
  {
   "cell_type": "code",
   "execution_count": 64,
   "id": "3b74dc54-96ab-4b2a-ac3c-dac389e0fa43",
   "metadata": {},
   "outputs": [],
   "source": [
    "x_train, x_test, y_train, y_test = train_test_split(x.values, y.values, test_size=0.3, random_state=0)"
   ]
  },
  {
   "cell_type": "markdown",
   "id": "09745e8d-87ab-4454-81fc-0fce7af6d703",
   "metadata": {},
   "source": [
    "Model fit"
   ]
  },
  {
   "cell_type": "code",
   "execution_count": 65,
   "id": "307c7205-211b-4a46-8c66-0f6925bc6476",
   "metadata": {
    "editable": true,
    "slideshow": {
     "slide_type": ""
    },
    "tags": []
   },
   "outputs": [],
   "source": [
    "model = pipeline.fit(x_train, (y_train))"
   ]
  },
  {
   "cell_type": "markdown",
   "id": "418d4a8b-7add-41a8-a91a-791fe45453f5",
   "metadata": {},
   "source": [
    "## Model Evalutation"
   ]
  },
  {
   "cell_type": "code",
   "execution_count": 66,
   "id": "3b791f11-f455-47b8-8879-178ca1080e14",
   "metadata": {},
   "outputs": [],
   "source": [
    "prediction = model.predict(x_test)"
   ]
  },
  {
   "cell_type": "code",
   "execution_count": 67,
   "id": "f430f1e4-8f60-4f1a-a87a-53c49a8540ed",
   "metadata": {},
   "outputs": [
    {
     "name": "stdout",
     "output_type": "stream",
     "text": [
      "Confusion Matrix:\n",
      " [[108  17]\n",
      " [ 29  58]] \n",
      "\n",
      "Accuracy: 0.7830188679245284\n",
      "Overall Precision: 0.7733333333333333\n",
      "Overall Recall: 0.6666666666666666\n"
     ]
    }
   ],
   "source": [
    "cm = confusion_matrix(y_test, prediction)\n",
    "print ('Confusion Matrix:\\n',cm, '\\n')\n",
    "\n",
    "print('Accuracy:', accuracy_score(y_test, prediction))\n",
    "print(\"Overall Precision:\",precision_score(y_test, prediction))\n",
    "print(\"Overall Recall:\",recall_score(y_test, prediction))"
   ]
  },
  {
   "cell_type": "markdown",
   "id": "23d60d99-fe76-4b85-b498-5b58ec1696b7",
   "metadata": {
    "jp-MarkdownHeadingCollapsed": true
   },
   "source": [
    "# Neural Network Approach"
   ]
  },
  {
   "cell_type": "markdown",
   "id": "4e948acf-c0b1-4cec-8d06-760ddf0e4eda",
   "metadata": {},
   "source": [
    "## Data Wrangling"
   ]
  },
  {
   "cell_type": "code",
   "execution_count": 9,
   "id": "5ac4d8f4-fbbe-42c8-a702-80621e132387",
   "metadata": {},
   "outputs": [],
   "source": [
    "from sklearn.preprocessing import MinMaxScaler"
   ]
  },
  {
   "cell_type": "code",
   "execution_count": 10,
   "id": "83c4b3f7-d6a7-47dd-b87b-497bb778e4c6",
   "metadata": {},
   "outputs": [],
   "source": [
    "features = [\"Pclass\", \"Sex\", \"Age\", \"Fare\"]\n",
    "numeric = [\"Pclass\", \"Age\", \"Fare\"]\n",
    "categoric = [\"Sex\"]\n",
    "key = [\"Survived\"]\n",
    "\n",
    "x = df[features]\n",
    "y = df[key]"
   ]
  },
  {
   "cell_type": "code",
   "execution_count": 11,
   "id": "0fc7a3bb-a089-4015-9227-e26ce1df3d02",
   "metadata": {},
   "outputs": [],
   "source": [
    "scaler = MinMaxScaler().set_output(transform=\"pandas\")\n",
    "onehot = OneHotEncoder(sparse_output = False).set_output(transform=\"pandas\")"
   ]
  },
  {
   "cell_type": "code",
   "execution_count": 12,
   "id": "ebe07028-2883-49d5-81f1-5b7921ff6983",
   "metadata": {},
   "outputs": [],
   "source": [
    "x.loc[:, numeric] = scaler.fit_transform(x[numeric])"
   ]
  },
  {
   "cell_type": "code",
   "execution_count": 13,
   "id": "a12119d9-76b6-4e80-a999-9b78a98e9dea",
   "metadata": {},
   "outputs": [],
   "source": [
    "x = pd.concat([x, onehot.fit_transform(x[categoric])], axis=1).drop(columns = [\"Sex\"])"
   ]
  },
  {
   "cell_type": "code",
   "execution_count": 14,
   "id": "d2cd4d91-9fd7-4792-b5f1-2b1ef894c7ba",
   "metadata": {},
   "outputs": [
    {
     "data": {
      "text/html": [
       "<div>\n",
       "<style scoped>\n",
       "    .dataframe tbody tr th:only-of-type {\n",
       "        vertical-align: middle;\n",
       "    }\n",
       "\n",
       "    .dataframe tbody tr th {\n",
       "        vertical-align: top;\n",
       "    }\n",
       "\n",
       "    .dataframe thead th {\n",
       "        text-align: right;\n",
       "    }\n",
       "</style>\n",
       "<table border=\"1\" class=\"dataframe\">\n",
       "  <thead>\n",
       "    <tr style=\"text-align: right;\">\n",
       "      <th></th>\n",
       "      <th>Pclass</th>\n",
       "      <th>Age</th>\n",
       "      <th>Fare</th>\n",
       "      <th>Sex_female</th>\n",
       "      <th>Sex_male</th>\n",
       "    </tr>\n",
       "  </thead>\n",
       "  <tbody>\n",
       "    <tr>\n",
       "      <th>0</th>\n",
       "      <td>1.0</td>\n",
       "      <td>0.271174</td>\n",
       "      <td>0.006369</td>\n",
       "      <td>0.0</td>\n",
       "      <td>1.0</td>\n",
       "    </tr>\n",
       "    <tr>\n",
       "      <th>1</th>\n",
       "      <td>0.0</td>\n",
       "      <td>0.472229</td>\n",
       "      <td>0.132340</td>\n",
       "      <td>1.0</td>\n",
       "      <td>0.0</td>\n",
       "    </tr>\n",
       "    <tr>\n",
       "      <th>2</th>\n",
       "      <td>1.0</td>\n",
       "      <td>0.321438</td>\n",
       "      <td>0.007697</td>\n",
       "      <td>1.0</td>\n",
       "      <td>0.0</td>\n",
       "    </tr>\n",
       "    <tr>\n",
       "      <th>3</th>\n",
       "      <td>0.0</td>\n",
       "      <td>0.434531</td>\n",
       "      <td>0.096569</td>\n",
       "      <td>1.0</td>\n",
       "      <td>0.0</td>\n",
       "    </tr>\n",
       "    <tr>\n",
       "      <th>4</th>\n",
       "      <td>1.0</td>\n",
       "      <td>0.434531</td>\n",
       "      <td>0.007943</td>\n",
       "      <td>0.0</td>\n",
       "      <td>1.0</td>\n",
       "    </tr>\n",
       "  </tbody>\n",
       "</table>\n",
       "</div>"
      ],
      "text/plain": [
       "   Pclass       Age      Fare  Sex_female  Sex_male\n",
       "0     1.0  0.271174  0.006369         0.0       1.0\n",
       "1     0.0  0.472229  0.132340         1.0       0.0\n",
       "2     1.0  0.321438  0.007697         1.0       0.0\n",
       "3     0.0  0.434531  0.096569         1.0       0.0\n",
       "4     1.0  0.434531  0.007943         0.0       1.0"
      ]
     },
     "execution_count": 14,
     "metadata": {},
     "output_type": "execute_result"
    }
   ],
   "source": [
    "x.head()"
   ]
  },
  {
   "cell_type": "markdown",
   "id": "1f7c4031-a9cc-423d-8879-692a910680d4",
   "metadata": {},
   "source": [
    "## TensorFlow library importing"
   ]
  },
  {
   "cell_type": "code",
   "execution_count": 15,
   "id": "932a3f35-713d-400d-918c-f12e423a8f1b",
   "metadata": {},
   "outputs": [],
   "source": [
    "import tensorflow as tf\n",
    "from tensorflow import keras\n",
    "from tensorflow.keras import models\n",
    "from tensorflow.keras.models import Sequential\n",
    "from tensorflow.keras.layers import Dense, Dropout\n",
    "from tensorflow.keras.optimizers import Adam\n",
    "from tensorflow.keras.initializers import GlorotUniform, HeNormal\n",
    "from tensorflow.keras.regularizers import L2\n",
    "from tensorflow.keras import utils"
   ]
  },
  {
   "cell_type": "code",
   "execution_count": 16,
   "id": "53071e81-be15-4de2-aab4-2884c1fb2cf9",
   "metadata": {},
   "outputs": [
    {
     "name": "stdout",
     "output_type": "stream",
     "text": [
      "Tensorflow: 2.13.0\n"
     ]
    }
   ],
   "source": [
    "print(\"Tensorflow:\", tf.__version__)"
   ]
  },
  {
   "cell_type": "markdown",
   "id": "9353ac23-cfdb-41d0-b431-b2b48e420926",
   "metadata": {},
   "source": [
    "## Train-Test split"
   ]
  },
  {
   "cell_type": "code",
   "execution_count": 17,
   "id": "89f8955b-c167-485d-8f9f-9a5d2f118261",
   "metadata": {},
   "outputs": [],
   "source": [
    "x = x.astype(\"float32\")"
   ]
  },
  {
   "cell_type": "code",
   "execution_count": 18,
   "id": "b613bb13-f228-4c14-bfc4-0dbac23f650e",
   "metadata": {},
   "outputs": [],
   "source": [
    "x_train, x_test, y_train, y_test = train_test_split(x.values, y.values, test_size=0.3, random_state=42)"
   ]
  },
  {
   "cell_type": "markdown",
   "id": "eb3928e9-4525-4064-a9f8-5a0e131208a2",
   "metadata": {},
   "source": [
    "## Define a NN"
   ]
  },
  {
   "cell_type": "code",
   "execution_count": 19,
   "id": "bf831fd2-912c-48e7-a5b2-27d100375b84",
   "metadata": {},
   "outputs": [],
   "source": [
    "hidden = 16\n",
    "output = 1\n",
    "init = HeNormal\n",
    "reg = L2(l2 = 0.03)\n",
    "\n",
    "model = Sequential([Dense(units = hidden, input_dim = len(x.columns), activation = \"relu\", kernel_initializer = init),\n",
    "                    Dropout(0.6),\n",
    "                    Dense(units = hidden, input_dim = hidden, activation = \"relu\", kernel_initializer = init),\n",
    "                    Dropout(0.3),\n",
    "                    Dense(units = output, input_dim = hidden, activation = \"sigmoid\", kernel_initializer = GlorotUniform)])"
   ]
  },
  {
   "cell_type": "markdown",
   "id": "f10650fb-3bfd-462d-b6f3-f35de8773cd8",
   "metadata": {},
   "source": [
    "## Train model"
   ]
  },
  {
   "cell_type": "code",
   "execution_count": 20,
   "id": "6a0e6310-99ae-4204-ad81-b661fb28ffc9",
   "metadata": {},
   "outputs": [
    {
     "name": "stdout",
     "output_type": "stream",
     "text": [
      "Epoch 1/500\n",
      "50/50 [==============================] - 1s 5ms/step - loss: 0.7629 - accuracy: 0.5172 - val_loss: 0.5861 - val_accuracy: 0.7217\n",
      "Epoch 2/500\n",
      "50/50 [==============================] - 0s 1ms/step - loss: 0.6342 - accuracy: 0.6755 - val_loss: 0.5510 - val_accuracy: 0.7972\n",
      "Epoch 3/500\n",
      "50/50 [==============================] - 0s 1ms/step - loss: 0.6091 - accuracy: 0.6734 - val_loss: 0.5416 - val_accuracy: 0.7500\n",
      "Epoch 4/500\n",
      "50/50 [==============================] - 0s 1ms/step - loss: 0.5861 - accuracy: 0.7201 - val_loss: 0.5117 - val_accuracy: 0.7736\n",
      "Epoch 5/500\n",
      "50/50 [==============================] - 0s 1ms/step - loss: 0.5770 - accuracy: 0.7201 - val_loss: 0.5126 - val_accuracy: 0.7642\n",
      "Epoch 6/500\n",
      "50/50 [==============================] - 0s 1ms/step - loss: 0.5861 - accuracy: 0.7323 - val_loss: 0.5009 - val_accuracy: 0.7783\n",
      "Epoch 7/500\n",
      "50/50 [==============================] - 0s 2ms/step - loss: 0.5436 - accuracy: 0.7424 - val_loss: 0.5020 - val_accuracy: 0.7689\n",
      "Epoch 8/500\n",
      "50/50 [==============================] - 0s 1ms/step - loss: 0.5292 - accuracy: 0.7444 - val_loss: 0.4847 - val_accuracy: 0.7642\n",
      "Epoch 9/500\n",
      "50/50 [==============================] - 0s 1ms/step - loss: 0.5565 - accuracy: 0.7201 - val_loss: 0.4891 - val_accuracy: 0.7594\n",
      "Epoch 10/500\n",
      "50/50 [==============================] - 0s 1ms/step - loss: 0.5588 - accuracy: 0.7424 - val_loss: 0.4937 - val_accuracy: 0.7689\n",
      "Epoch 11/500\n",
      "50/50 [==============================] - 0s 1ms/step - loss: 0.5451 - accuracy: 0.7444 - val_loss: 0.4913 - val_accuracy: 0.7689\n",
      "Epoch 12/500\n",
      "50/50 [==============================] - 0s 1ms/step - loss: 0.5374 - accuracy: 0.7343 - val_loss: 0.4838 - val_accuracy: 0.7689\n",
      "Epoch 13/500\n",
      "50/50 [==============================] - 0s 1ms/step - loss: 0.5291 - accuracy: 0.7485 - val_loss: 0.4834 - val_accuracy: 0.7783\n",
      "Epoch 14/500\n",
      "50/50 [==============================] - 0s 1ms/step - loss: 0.5456 - accuracy: 0.7444 - val_loss: 0.4808 - val_accuracy: 0.7689\n",
      "Epoch 15/500\n",
      "50/50 [==============================] - 0s 1ms/step - loss: 0.5109 - accuracy: 0.7444 - val_loss: 0.4750 - val_accuracy: 0.7642\n",
      "Epoch 16/500\n",
      "50/50 [==============================] - 0s 1ms/step - loss: 0.5231 - accuracy: 0.7688 - val_loss: 0.4698 - val_accuracy: 0.7689\n",
      "Epoch 17/500\n",
      "50/50 [==============================] - 0s 1ms/step - loss: 0.5058 - accuracy: 0.7485 - val_loss: 0.4621 - val_accuracy: 0.7642\n",
      "Epoch 18/500\n",
      "50/50 [==============================] - 0s 1ms/step - loss: 0.5147 - accuracy: 0.7566 - val_loss: 0.4676 - val_accuracy: 0.7736\n",
      "Epoch 19/500\n",
      "50/50 [==============================] - 0s 1ms/step - loss: 0.5228 - accuracy: 0.7404 - val_loss: 0.4713 - val_accuracy: 0.7736\n",
      "Epoch 20/500\n",
      "50/50 [==============================] - 0s 1ms/step - loss: 0.5156 - accuracy: 0.7647 - val_loss: 0.4902 - val_accuracy: 0.7736\n",
      "Epoch 21/500\n",
      "50/50 [==============================] - 0s 1ms/step - loss: 0.5354 - accuracy: 0.7627 - val_loss: 0.4711 - val_accuracy: 0.7736\n",
      "Epoch 22/500\n",
      "50/50 [==============================] - 0s 1ms/step - loss: 0.5251 - accuracy: 0.7667 - val_loss: 0.4637 - val_accuracy: 0.7736\n",
      "Epoch 23/500\n",
      "50/50 [==============================] - 0s 1ms/step - loss: 0.5095 - accuracy: 0.7688 - val_loss: 0.4669 - val_accuracy: 0.7736\n",
      "Epoch 24/500\n",
      "50/50 [==============================] - 0s 1ms/step - loss: 0.5088 - accuracy: 0.7525 - val_loss: 0.4635 - val_accuracy: 0.7736\n",
      "Epoch 25/500\n",
      "50/50 [==============================] - 0s 2ms/step - loss: 0.4980 - accuracy: 0.7688 - val_loss: 0.4610 - val_accuracy: 0.7736\n",
      "Epoch 26/500\n",
      "50/50 [==============================] - 0s 1ms/step - loss: 0.4894 - accuracy: 0.7748 - val_loss: 0.4525 - val_accuracy: 0.7736\n",
      "Epoch 27/500\n",
      "50/50 [==============================] - 0s 1ms/step - loss: 0.4977 - accuracy: 0.7830 - val_loss: 0.4603 - val_accuracy: 0.7736\n",
      "Epoch 28/500\n",
      "50/50 [==============================] - 0s 1ms/step - loss: 0.5146 - accuracy: 0.7505 - val_loss: 0.4607 - val_accuracy: 0.7736\n",
      "Epoch 29/500\n",
      "50/50 [==============================] - 0s 1ms/step - loss: 0.5261 - accuracy: 0.7586 - val_loss: 0.4689 - val_accuracy: 0.7736\n",
      "Epoch 30/500\n",
      "50/50 [==============================] - 0s 1ms/step - loss: 0.4998 - accuracy: 0.7708 - val_loss: 0.4534 - val_accuracy: 0.7736\n",
      "Epoch 31/500\n",
      "50/50 [==============================] - 0s 1ms/step - loss: 0.5090 - accuracy: 0.7525 - val_loss: 0.4585 - val_accuracy: 0.7736\n",
      "Epoch 32/500\n",
      "50/50 [==============================] - 0s 1ms/step - loss: 0.5187 - accuracy: 0.7586 - val_loss: 0.4609 - val_accuracy: 0.7736\n",
      "Epoch 33/500\n",
      "50/50 [==============================] - 0s 1ms/step - loss: 0.5095 - accuracy: 0.7627 - val_loss: 0.4609 - val_accuracy: 0.7736\n",
      "Epoch 34/500\n",
      "50/50 [==============================] - 0s 1ms/step - loss: 0.4857 - accuracy: 0.7850 - val_loss: 0.4525 - val_accuracy: 0.7736\n",
      "Epoch 35/500\n",
      "50/50 [==============================] - 0s 1ms/step - loss: 0.5128 - accuracy: 0.7667 - val_loss: 0.4552 - val_accuracy: 0.7736\n",
      "Epoch 36/500\n",
      "50/50 [==============================] - 0s 1ms/step - loss: 0.4812 - accuracy: 0.7485 - val_loss: 0.4546 - val_accuracy: 0.7736\n",
      "Epoch 37/500\n",
      "50/50 [==============================] - 0s 1ms/step - loss: 0.4941 - accuracy: 0.7667 - val_loss: 0.4547 - val_accuracy: 0.7736\n",
      "Epoch 38/500\n",
      "50/50 [==============================] - 0s 1ms/step - loss: 0.4945 - accuracy: 0.7809 - val_loss: 0.4528 - val_accuracy: 0.7736\n",
      "Epoch 39/500\n",
      "50/50 [==============================] - 0s 1ms/step - loss: 0.5011 - accuracy: 0.7586 - val_loss: 0.4557 - val_accuracy: 0.7736\n",
      "Epoch 40/500\n",
      "50/50 [==============================] - 0s 1ms/step - loss: 0.4790 - accuracy: 0.7951 - val_loss: 0.4496 - val_accuracy: 0.7736\n",
      "Epoch 41/500\n",
      "50/50 [==============================] - 0s 2ms/step - loss: 0.5234 - accuracy: 0.7627 - val_loss: 0.4606 - val_accuracy: 0.7783\n",
      "Epoch 42/500\n",
      "50/50 [==============================] - 0s 1ms/step - loss: 0.4801 - accuracy: 0.7667 - val_loss: 0.4561 - val_accuracy: 0.7736\n",
      "Epoch 43/500\n",
      "50/50 [==============================] - 0s 1ms/step - loss: 0.5048 - accuracy: 0.7890 - val_loss: 0.4548 - val_accuracy: 0.7736\n",
      "Epoch 44/500\n",
      "50/50 [==============================] - 0s 1ms/step - loss: 0.5249 - accuracy: 0.7606 - val_loss: 0.4676 - val_accuracy: 0.7783\n",
      "Epoch 45/500\n",
      "50/50 [==============================] - 0s 1ms/step - loss: 0.5097 - accuracy: 0.7566 - val_loss: 0.4598 - val_accuracy: 0.7783\n",
      "Epoch 46/500\n",
      "50/50 [==============================] - 0s 1ms/step - loss: 0.5049 - accuracy: 0.7586 - val_loss: 0.4598 - val_accuracy: 0.7736\n",
      "Epoch 47/500\n",
      "50/50 [==============================] - 0s 1ms/step - loss: 0.5172 - accuracy: 0.7485 - val_loss: 0.4634 - val_accuracy: 0.7736\n",
      "Epoch 48/500\n",
      "50/50 [==============================] - 0s 1ms/step - loss: 0.4741 - accuracy: 0.7789 - val_loss: 0.4547 - val_accuracy: 0.7783\n",
      "Epoch 49/500\n",
      "50/50 [==============================] - 0s 1ms/step - loss: 0.4881 - accuracy: 0.7586 - val_loss: 0.4536 - val_accuracy: 0.7783\n",
      "Epoch 50/500\n",
      "50/50 [==============================] - 0s 1ms/step - loss: 0.4826 - accuracy: 0.7830 - val_loss: 0.4494 - val_accuracy: 0.7783\n",
      "Epoch 51/500\n",
      "50/50 [==============================] - 0s 1ms/step - loss: 0.4860 - accuracy: 0.7809 - val_loss: 0.4444 - val_accuracy: 0.7736\n",
      "Epoch 52/500\n",
      "50/50 [==============================] - 0s 1ms/step - loss: 0.4798 - accuracy: 0.7688 - val_loss: 0.4452 - val_accuracy: 0.7783\n",
      "Epoch 53/500\n",
      "50/50 [==============================] - 0s 2ms/step - loss: 0.4906 - accuracy: 0.7748 - val_loss: 0.4488 - val_accuracy: 0.7689\n",
      "Epoch 54/500\n",
      "50/50 [==============================] - 0s 1ms/step - loss: 0.4990 - accuracy: 0.7647 - val_loss: 0.4574 - val_accuracy: 0.7736\n",
      "Epoch 55/500\n",
      "50/50 [==============================] - 0s 1ms/step - loss: 0.4938 - accuracy: 0.7627 - val_loss: 0.4454 - val_accuracy: 0.7783\n",
      "Epoch 56/500\n",
      "50/50 [==============================] - 0s 1ms/step - loss: 0.4937 - accuracy: 0.7606 - val_loss: 0.4553 - val_accuracy: 0.7736\n",
      "Epoch 57/500\n",
      "50/50 [==============================] - 0s 1ms/step - loss: 0.5013 - accuracy: 0.7728 - val_loss: 0.4585 - val_accuracy: 0.7783\n",
      "Epoch 58/500\n",
      "50/50 [==============================] - 0s 1ms/step - loss: 0.5034 - accuracy: 0.7708 - val_loss: 0.4538 - val_accuracy: 0.7736\n",
      "Epoch 59/500\n",
      "50/50 [==============================] - 0s 1ms/step - loss: 0.4712 - accuracy: 0.7748 - val_loss: 0.4505 - val_accuracy: 0.7736\n",
      "Epoch 60/500\n",
      "50/50 [==============================] - 0s 1ms/step - loss: 0.5060 - accuracy: 0.7789 - val_loss: 0.4552 - val_accuracy: 0.7736\n",
      "Epoch 61/500\n",
      "50/50 [==============================] - 0s 1ms/step - loss: 0.4901 - accuracy: 0.7830 - val_loss: 0.4487 - val_accuracy: 0.7736\n",
      "Epoch 62/500\n",
      "50/50 [==============================] - 0s 1ms/step - loss: 0.5098 - accuracy: 0.7708 - val_loss: 0.4613 - val_accuracy: 0.7736\n",
      "Epoch 63/500\n",
      "50/50 [==============================] - 0s 1ms/step - loss: 0.4822 - accuracy: 0.7769 - val_loss: 0.4451 - val_accuracy: 0.7972\n",
      "Epoch 64/500\n",
      "50/50 [==============================] - 0s 1ms/step - loss: 0.5069 - accuracy: 0.7708 - val_loss: 0.4521 - val_accuracy: 0.7877\n",
      "Epoch 65/500\n",
      "50/50 [==============================] - 0s 2ms/step - loss: 0.4837 - accuracy: 0.7789 - val_loss: 0.4495 - val_accuracy: 0.7736\n",
      "Epoch 66/500\n",
      "50/50 [==============================] - 0s 1ms/step - loss: 0.4836 - accuracy: 0.7627 - val_loss: 0.4463 - val_accuracy: 0.7736\n",
      "Epoch 67/500\n",
      "50/50 [==============================] - 0s 1ms/step - loss: 0.4730 - accuracy: 0.7870 - val_loss: 0.4470 - val_accuracy: 0.7877\n",
      "Epoch 68/500\n",
      "50/50 [==============================] - 0s 1ms/step - loss: 0.4811 - accuracy: 0.7789 - val_loss: 0.4449 - val_accuracy: 0.7736\n",
      "Epoch 69/500\n",
      "50/50 [==============================] - 0s 1ms/step - loss: 0.4958 - accuracy: 0.7566 - val_loss: 0.4509 - val_accuracy: 0.7783\n",
      "Epoch 70/500\n",
      "50/50 [==============================] - 0s 1ms/step - loss: 0.4974 - accuracy: 0.7546 - val_loss: 0.4582 - val_accuracy: 0.7830\n",
      "Epoch 71/500\n",
      "50/50 [==============================] - 0s 1ms/step - loss: 0.5100 - accuracy: 0.7647 - val_loss: 0.4486 - val_accuracy: 0.7830\n",
      "Epoch 72/500\n",
      "50/50 [==============================] - 0s 1ms/step - loss: 0.5166 - accuracy: 0.7424 - val_loss: 0.4568 - val_accuracy: 0.7783\n",
      "Epoch 73/500\n",
      "50/50 [==============================] - 0s 1ms/step - loss: 0.4841 - accuracy: 0.7870 - val_loss: 0.4510 - val_accuracy: 0.7783\n",
      "Epoch 74/500\n",
      "50/50 [==============================] - 0s 1ms/step - loss: 0.4683 - accuracy: 0.7911 - val_loss: 0.4442 - val_accuracy: 0.7877\n",
      "Epoch 75/500\n",
      "50/50 [==============================] - 0s 1ms/step - loss: 0.4893 - accuracy: 0.7708 - val_loss: 0.4497 - val_accuracy: 0.7830\n",
      "Epoch 76/500\n",
      "50/50 [==============================] - 0s 1ms/step - loss: 0.4777 - accuracy: 0.7647 - val_loss: 0.4453 - val_accuracy: 0.7830\n",
      "Epoch 77/500\n",
      "50/50 [==============================] - 0s 1ms/step - loss: 0.4942 - accuracy: 0.7525 - val_loss: 0.4417 - val_accuracy: 0.7877\n",
      "Epoch 78/500\n",
      "50/50 [==============================] - 0s 1ms/step - loss: 0.4811 - accuracy: 0.7728 - val_loss: 0.4438 - val_accuracy: 0.7830\n",
      "Epoch 79/500\n",
      "50/50 [==============================] - 0s 1ms/step - loss: 0.4813 - accuracy: 0.7688 - val_loss: 0.4502 - val_accuracy: 0.7877\n",
      "Epoch 80/500\n",
      "50/50 [==============================] - 0s 2ms/step - loss: 0.4741 - accuracy: 0.7789 - val_loss: 0.4473 - val_accuracy: 0.7830\n",
      "Epoch 81/500\n",
      "50/50 [==============================] - 0s 1ms/step - loss: 0.4851 - accuracy: 0.7688 - val_loss: 0.4419 - val_accuracy: 0.7925\n",
      "Epoch 82/500\n",
      "50/50 [==============================] - 0s 1ms/step - loss: 0.5000 - accuracy: 0.7728 - val_loss: 0.4488 - val_accuracy: 0.7877\n",
      "Epoch 83/500\n",
      "50/50 [==============================] - 0s 1ms/step - loss: 0.4762 - accuracy: 0.7911 - val_loss: 0.4442 - val_accuracy: 0.7877\n",
      "Epoch 84/500\n",
      "50/50 [==============================] - 0s 1ms/step - loss: 0.4819 - accuracy: 0.7850 - val_loss: 0.4416 - val_accuracy: 0.8019\n",
      "Epoch 85/500\n",
      "50/50 [==============================] - 0s 1ms/step - loss: 0.5042 - accuracy: 0.7566 - val_loss: 0.4444 - val_accuracy: 0.7877\n",
      "Epoch 86/500\n",
      "50/50 [==============================] - 0s 1ms/step - loss: 0.4888 - accuracy: 0.7769 - val_loss: 0.4481 - val_accuracy: 0.7972\n",
      "Epoch 87/500\n",
      "50/50 [==============================] - 0s 1ms/step - loss: 0.4872 - accuracy: 0.7647 - val_loss: 0.4419 - val_accuracy: 0.7877\n",
      "Epoch 88/500\n",
      "50/50 [==============================] - 0s 1ms/step - loss: 0.4902 - accuracy: 0.7667 - val_loss: 0.4450 - val_accuracy: 0.8066\n",
      "Epoch 89/500\n",
      "50/50 [==============================] - 0s 1ms/step - loss: 0.4893 - accuracy: 0.7728 - val_loss: 0.4408 - val_accuracy: 0.8113\n",
      "Epoch 90/500\n",
      "50/50 [==============================] - 0s 1ms/step - loss: 0.4909 - accuracy: 0.7789 - val_loss: 0.4438 - val_accuracy: 0.8113\n",
      "Epoch 91/500\n",
      "50/50 [==============================] - 0s 1ms/step - loss: 0.4449 - accuracy: 0.8032 - val_loss: 0.4391 - val_accuracy: 0.8019\n",
      "Epoch 92/500\n",
      "50/50 [==============================] - 0s 1ms/step - loss: 0.4901 - accuracy: 0.7708 - val_loss: 0.4419 - val_accuracy: 0.7877\n",
      "Epoch 93/500\n",
      "50/50 [==============================] - 0s 1ms/step - loss: 0.4775 - accuracy: 0.7586 - val_loss: 0.4420 - val_accuracy: 0.7877\n",
      "Epoch 94/500\n",
      "50/50 [==============================] - 0s 2ms/step - loss: 0.4730 - accuracy: 0.7830 - val_loss: 0.4337 - val_accuracy: 0.8113\n",
      "Epoch 95/500\n",
      "50/50 [==============================] - 0s 1ms/step - loss: 0.4819 - accuracy: 0.7911 - val_loss: 0.4410 - val_accuracy: 0.7877\n",
      "Epoch 96/500\n",
      "50/50 [==============================] - 0s 1ms/step - loss: 0.4679 - accuracy: 0.7931 - val_loss: 0.4357 - val_accuracy: 0.8019\n",
      "Epoch 97/500\n",
      "50/50 [==============================] - 0s 1ms/step - loss: 0.4702 - accuracy: 0.7647 - val_loss: 0.4386 - val_accuracy: 0.7925\n",
      "Epoch 98/500\n",
      "50/50 [==============================] - 0s 1ms/step - loss: 0.4830 - accuracy: 0.7667 - val_loss: 0.4346 - val_accuracy: 0.8113\n",
      "Epoch 99/500\n",
      "50/50 [==============================] - 0s 1ms/step - loss: 0.4967 - accuracy: 0.7647 - val_loss: 0.4377 - val_accuracy: 0.8113\n",
      "Epoch 100/500\n",
      "50/50 [==============================] - 0s 1ms/step - loss: 0.4817 - accuracy: 0.7809 - val_loss: 0.4360 - val_accuracy: 0.7925\n",
      "Epoch 101/500\n",
      "50/50 [==============================] - 0s 1ms/step - loss: 0.4834 - accuracy: 0.7606 - val_loss: 0.4341 - val_accuracy: 0.8066\n",
      "Epoch 102/500\n",
      "50/50 [==============================] - 0s 1ms/step - loss: 0.4660 - accuracy: 0.7809 - val_loss: 0.4327 - val_accuracy: 0.8019\n",
      "Epoch 103/500\n",
      "50/50 [==============================] - 0s 1ms/step - loss: 0.5058 - accuracy: 0.7627 - val_loss: 0.4454 - val_accuracy: 0.7972\n",
      "Epoch 104/500\n",
      "50/50 [==============================] - 0s 1ms/step - loss: 0.4895 - accuracy: 0.7728 - val_loss: 0.4399 - val_accuracy: 0.8113\n",
      "Epoch 105/500\n",
      "50/50 [==============================] - 0s 1ms/step - loss: 0.4931 - accuracy: 0.7606 - val_loss: 0.4435 - val_accuracy: 0.8113\n",
      "Epoch 106/500\n",
      "50/50 [==============================] - 0s 1ms/step - loss: 0.4895 - accuracy: 0.7606 - val_loss: 0.4422 - val_accuracy: 0.8160\n",
      "Epoch 107/500\n",
      "50/50 [==============================] - 0s 2ms/step - loss: 0.4810 - accuracy: 0.7830 - val_loss: 0.4455 - val_accuracy: 0.8019\n",
      "Epoch 108/500\n",
      "50/50 [==============================] - 0s 1ms/step - loss: 0.4811 - accuracy: 0.7769 - val_loss: 0.4537 - val_accuracy: 0.8019\n",
      "Epoch 109/500\n",
      "50/50 [==============================] - 0s 1ms/step - loss: 0.4803 - accuracy: 0.7708 - val_loss: 0.4386 - val_accuracy: 0.8160\n",
      "Epoch 110/500\n",
      "50/50 [==============================] - 0s 1ms/step - loss: 0.4955 - accuracy: 0.7606 - val_loss: 0.4469 - val_accuracy: 0.8113\n",
      "Epoch 111/500\n",
      "50/50 [==============================] - 0s 1ms/step - loss: 0.4928 - accuracy: 0.7647 - val_loss: 0.4407 - val_accuracy: 0.8066\n",
      "Epoch 112/500\n",
      "50/50 [==============================] - 0s 1ms/step - loss: 0.4630 - accuracy: 0.7830 - val_loss: 0.4305 - val_accuracy: 0.8019\n",
      "Epoch 113/500\n",
      "50/50 [==============================] - 0s 1ms/step - loss: 0.4692 - accuracy: 0.7789 - val_loss: 0.4309 - val_accuracy: 0.8255\n",
      "Epoch 114/500\n",
      "50/50 [==============================] - 0s 1ms/step - loss: 0.4765 - accuracy: 0.7688 - val_loss: 0.4499 - val_accuracy: 0.7877\n",
      "Epoch 115/500\n",
      "50/50 [==============================] - 0s 1ms/step - loss: 0.4761 - accuracy: 0.7951 - val_loss: 0.4390 - val_accuracy: 0.8066\n",
      "Epoch 116/500\n",
      "50/50 [==============================] - 0s 1ms/step - loss: 0.4580 - accuracy: 0.8114 - val_loss: 0.4408 - val_accuracy: 0.7972\n",
      "Epoch 117/500\n",
      "50/50 [==============================] - 0s 1ms/step - loss: 0.4729 - accuracy: 0.7728 - val_loss: 0.4323 - val_accuracy: 0.8113\n",
      "Epoch 118/500\n",
      "50/50 [==============================] - 0s 2ms/step - loss: 0.4692 - accuracy: 0.7748 - val_loss: 0.4395 - val_accuracy: 0.8066\n",
      "Epoch 119/500\n",
      "50/50 [==============================] - 0s 1ms/step - loss: 0.4757 - accuracy: 0.7667 - val_loss: 0.4348 - val_accuracy: 0.8019\n",
      "Epoch 120/500\n",
      "50/50 [==============================] - 0s 1ms/step - loss: 0.4521 - accuracy: 0.8012 - val_loss: 0.4451 - val_accuracy: 0.7925\n",
      "Epoch 121/500\n",
      "50/50 [==============================] - 0s 1ms/step - loss: 0.4883 - accuracy: 0.7728 - val_loss: 0.4373 - val_accuracy: 0.8066\n",
      "Epoch 122/500\n",
      "50/50 [==============================] - 0s 1ms/step - loss: 0.4677 - accuracy: 0.7769 - val_loss: 0.4307 - val_accuracy: 0.8019\n",
      "Epoch 123/500\n",
      "50/50 [==============================] - 0s 1ms/step - loss: 0.4813 - accuracy: 0.7728 - val_loss: 0.4306 - val_accuracy: 0.8066\n",
      "Epoch 124/500\n",
      "50/50 [==============================] - 0s 1ms/step - loss: 0.4775 - accuracy: 0.7769 - val_loss: 0.4381 - val_accuracy: 0.8019\n",
      "Epoch 125/500\n",
      "50/50 [==============================] - 0s 1ms/step - loss: 0.4681 - accuracy: 0.7850 - val_loss: 0.4361 - val_accuracy: 0.7972\n",
      "Epoch 126/500\n",
      "50/50 [==============================] - 0s 1ms/step - loss: 0.4802 - accuracy: 0.7911 - val_loss: 0.4484 - val_accuracy: 0.7877\n",
      "Epoch 127/500\n",
      "50/50 [==============================] - 0s 1ms/step - loss: 0.4713 - accuracy: 0.7911 - val_loss: 0.4383 - val_accuracy: 0.7925\n",
      "Epoch 128/500\n",
      "50/50 [==============================] - 0s 1ms/step - loss: 0.4798 - accuracy: 0.7809 - val_loss: 0.4365 - val_accuracy: 0.7972\n",
      "Epoch 129/500\n",
      "50/50 [==============================] - 0s 2ms/step - loss: 0.4744 - accuracy: 0.8012 - val_loss: 0.4369 - val_accuracy: 0.8066\n",
      "Epoch 130/500\n",
      "50/50 [==============================] - 0s 1ms/step - loss: 0.4868 - accuracy: 0.7789 - val_loss: 0.4484 - val_accuracy: 0.8019\n",
      "Epoch 131/500\n",
      "50/50 [==============================] - 0s 1ms/step - loss: 0.4820 - accuracy: 0.7850 - val_loss: 0.4336 - val_accuracy: 0.8208\n",
      "Epoch 132/500\n",
      "50/50 [==============================] - 0s 1ms/step - loss: 0.4880 - accuracy: 0.7708 - val_loss: 0.4397 - val_accuracy: 0.8066\n",
      "Epoch 133/500\n",
      "50/50 [==============================] - 0s 1ms/step - loss: 0.5013 - accuracy: 0.7586 - val_loss: 0.4498 - val_accuracy: 0.7877\n",
      "Epoch 134/500\n",
      "50/50 [==============================] - 0s 1ms/step - loss: 0.4577 - accuracy: 0.7890 - val_loss: 0.4369 - val_accuracy: 0.7925\n",
      "Epoch 135/500\n",
      "50/50 [==============================] - 0s 1ms/step - loss: 0.4857 - accuracy: 0.7748 - val_loss: 0.4490 - val_accuracy: 0.7877\n",
      "Epoch 136/500\n",
      "50/50 [==============================] - 0s 1ms/step - loss: 0.4651 - accuracy: 0.7809 - val_loss: 0.4368 - val_accuracy: 0.8019\n",
      "Epoch 137/500\n",
      "50/50 [==============================] - 0s 1ms/step - loss: 0.4709 - accuracy: 0.7830 - val_loss: 0.4437 - val_accuracy: 0.7925\n",
      "Epoch 138/500\n",
      "50/50 [==============================] - 0s 1ms/step - loss: 0.4936 - accuracy: 0.7627 - val_loss: 0.4403 - val_accuracy: 0.7925\n",
      "Epoch 139/500\n",
      "50/50 [==============================] - 0s 1ms/step - loss: 0.4826 - accuracy: 0.7789 - val_loss: 0.4412 - val_accuracy: 0.8066\n",
      "Epoch 140/500\n",
      "50/50 [==============================] - 0s 2ms/step - loss: 0.4778 - accuracy: 0.7748 - val_loss: 0.4353 - val_accuracy: 0.7972\n",
      "Epoch 141/500\n",
      "50/50 [==============================] - 0s 1ms/step - loss: 0.4823 - accuracy: 0.7667 - val_loss: 0.4440 - val_accuracy: 0.7972\n",
      "Epoch 142/500\n",
      "50/50 [==============================] - 0s 1ms/step - loss: 0.4930 - accuracy: 0.7850 - val_loss: 0.4421 - val_accuracy: 0.7830\n",
      "Epoch 143/500\n",
      "50/50 [==============================] - 0s 1ms/step - loss: 0.4843 - accuracy: 0.7627 - val_loss: 0.4464 - val_accuracy: 0.7830\n",
      "Epoch 144/500\n",
      "50/50 [==============================] - 0s 1ms/step - loss: 0.4916 - accuracy: 0.7850 - val_loss: 0.4445 - val_accuracy: 0.7877\n",
      "Epoch 145/500\n",
      "50/50 [==============================] - 0s 1ms/step - loss: 0.4976 - accuracy: 0.7525 - val_loss: 0.4407 - val_accuracy: 0.7925\n",
      "Epoch 146/500\n",
      "50/50 [==============================] - 0s 1ms/step - loss: 0.4793 - accuracy: 0.7688 - val_loss: 0.4436 - val_accuracy: 0.7972\n",
      "Epoch 147/500\n",
      "50/50 [==============================] - 0s 1ms/step - loss: 0.4815 - accuracy: 0.7809 - val_loss: 0.4435 - val_accuracy: 0.7783\n",
      "Epoch 148/500\n",
      "50/50 [==============================] - 0s 1ms/step - loss: 0.4933 - accuracy: 0.7546 - val_loss: 0.4591 - val_accuracy: 0.7925\n",
      "Epoch 149/500\n",
      "50/50 [==============================] - 0s 1ms/step - loss: 0.4871 - accuracy: 0.7769 - val_loss: 0.4555 - val_accuracy: 0.8019\n",
      "Epoch 150/500\n",
      "50/50 [==============================] - 0s 2ms/step - loss: 0.4931 - accuracy: 0.7546 - val_loss: 0.4427 - val_accuracy: 0.8113\n",
      "Epoch 151/500\n",
      "50/50 [==============================] - 0s 1ms/step - loss: 0.5102 - accuracy: 0.7465 - val_loss: 0.4498 - val_accuracy: 0.7972\n",
      "Epoch 152/500\n",
      "50/50 [==============================] - 0s 1ms/step - loss: 0.4426 - accuracy: 0.7870 - val_loss: 0.4332 - val_accuracy: 0.7877\n",
      "Epoch 153/500\n",
      "50/50 [==============================] - 0s 1ms/step - loss: 0.4798 - accuracy: 0.7566 - val_loss: 0.4382 - val_accuracy: 0.7925\n",
      "Epoch 154/500\n",
      "50/50 [==============================] - 0s 1ms/step - loss: 0.4838 - accuracy: 0.7667 - val_loss: 0.4409 - val_accuracy: 0.8019\n",
      "Epoch 155/500\n",
      "50/50 [==============================] - 0s 1ms/step - loss: 0.4618 - accuracy: 0.7830 - val_loss: 0.4366 - val_accuracy: 0.8019\n",
      "Epoch 156/500\n",
      "50/50 [==============================] - 0s 1ms/step - loss: 0.4706 - accuracy: 0.7951 - val_loss: 0.4370 - val_accuracy: 0.8019\n",
      "Epoch 157/500\n",
      "50/50 [==============================] - 0s 1ms/step - loss: 0.4890 - accuracy: 0.7789 - val_loss: 0.4340 - val_accuracy: 0.8255\n",
      "Epoch 158/500\n",
      "50/50 [==============================] - 0s 1ms/step - loss: 0.4629 - accuracy: 0.7992 - val_loss: 0.4352 - val_accuracy: 0.8066\n",
      "Epoch 159/500\n",
      "50/50 [==============================] - 0s 2ms/step - loss: 0.4933 - accuracy: 0.7627 - val_loss: 0.4546 - val_accuracy: 0.7972\n",
      "Epoch 160/500\n",
      "50/50 [==============================] - 0s 1ms/step - loss: 0.4881 - accuracy: 0.7809 - val_loss: 0.4403 - val_accuracy: 0.8066\n",
      "Epoch 161/500\n",
      "50/50 [==============================] - 0s 1ms/step - loss: 0.4813 - accuracy: 0.7850 - val_loss: 0.4405 - val_accuracy: 0.8113\n",
      "Epoch 162/500\n",
      "50/50 [==============================] - 0s 1ms/step - loss: 0.4759 - accuracy: 0.7728 - val_loss: 0.4314 - val_accuracy: 0.8208\n"
     ]
    }
   ],
   "source": [
    "learning_rate = 0.005\n",
    "opt = Adam(learning_rate = learning_rate)\n",
    "early_stop = keras.callbacks.EarlyStopping(monitor = \"val_loss\", patience = 50, restore_best_weights = True)\n",
    "\n",
    "model.compile(loss = \"binary_crossentropy\",\n",
    "              optimizer = opt,\n",
    "              metrics = [\"accuracy\"])\n",
    "\n",
    "epochs = 500\n",
    "history = model.fit(x_train, y_train, epochs=epochs, batch_size = 10, validation_data = (x_test, y_test), callbacks=[early_stop])"
   ]
  },
  {
   "cell_type": "markdown",
   "id": "19983548-3c84-4921-b7c5-c8f2d65cc182",
   "metadata": {},
   "source": [
    "## Investigating results"
   ]
  },
  {
   "cell_type": "code",
   "execution_count": 21,
   "id": "cf924c29-ea10-40bd-a43c-9058a196226e",
   "metadata": {},
   "outputs": [
    {
     "name": "stdout",
     "output_type": "stream",
     "text": [
      "7/7 [==============================] - 0s 830us/step - loss: 0.4305 - accuracy: 0.8019\n",
      "Accuracy: 0.801886796951294\n"
     ]
    }
   ],
   "source": [
    "loss, accuracy = model.evaluate(x_test, y_test, verbose=1)\n",
    "print(f'Accuracy: {accuracy}')"
   ]
  },
  {
   "cell_type": "code",
   "execution_count": 22,
   "id": "49258270-41a0-4464-bfa9-bf90b3d2a8f3",
   "metadata": {},
   "outputs": [
    {
     "data": {
      "image/png": "[encoded data removed]",
      "text/plain": [
       "<Figure size 1200x400 with 2 Axes>"
      ]
     },
     "metadata": {},
     "output_type": "display_data"
    }
   ],
   "source": [
    "import matplotlib.pyplot as plt\n",
    "\n",
    "# Plot training & validation accuracy values\n",
    "plt.figure(figsize=(12, 4))\n",
    "plt.subplot(1, 2, 1)\n",
    "plt.plot(history.history['accuracy'])\n",
    "plt.plot(history.history['val_accuracy'])\n",
    "plt.title('Model accuracy')\n",
    "plt.ylabel('Accuracy')\n",
    "plt.xlabel('Epoch')\n",
    "plt.legend(['Train', 'Validation'], loc='upper left')\n",
    "\n",
    "# Plot training & validation loss values\n",
    "plt.subplot(1, 2, 2)\n",
    "plt.plot(history.history['loss'])\n",
    "plt.plot(history.history['val_loss'])\n",
    "plt.title('Model loss')\n",
    "plt.ylabel('Loss')\n",
    "plt.xlabel('Epoch')\n",
    "plt.legend(['Train', 'Validation'], loc='upper left')\n",
    "\n",
    "plt.show()\n"
   ]
  },
  {
   "cell_type": "markdown",
   "id": "815a7933-32ac-4a3e-9186-ed353016cfd6",
   "metadata": {},
   "source": [
    "# Save model"
   ]
  },
  {
   "cell_type": "code",
   "execution_count": 24,
   "id": "b298ffa4-7686-49d9-ae46-a630419ec52c",
   "metadata": {},
   "outputs": [],
   "source": [
    "modelFileName = 'models/titanic.keras'\n",
    "model.save(modelFileName)"
   ]
  }
 ],
 "metadata": {
  "kernelspec": {
   "display_name": "Python 3 (ipykernel)",
   "language": "python",
   "name": "python3"
  },
  "language_info": {
   "codemirror_mode": {
    "name": "ipython",
    "version": 3
   },
   "file_extension": ".py",
   "mimetype": "text/x-python",
   "name": "python",
   "nbconvert_exporter": "python",
   "pygments_lexer": "ipython3",
   "version": "3.9.13"
  }
 },
 "nbformat": 4,
 "nbformat_minor": 5
}
