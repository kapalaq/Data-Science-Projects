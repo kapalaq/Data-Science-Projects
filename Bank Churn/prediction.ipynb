{
 "cells": [
  {
   "cell_type": "code",
   "execution_count": 3,
   "id": "2ce97a91-1dcf-4314-a7df-59131cc82248",
   "metadata": {},
   "outputs": [],
   "source": [
    "import pandas as pd\n",
    "import numpy as np\n",
    "from sklearn.preprocessing import StandardScaler, OneHotEncoder\n",
    "from sklearn.compose import ColumnTransformer\n",
    "import tensorflow.keras.models as md\n",
    "import lightgbm as lgb"
   ]
  },
  {
   "cell_type": "code",
   "execution_count": 2,
   "id": "595cfa76-a981-4691-b0bd-72b0d857d3c8",
   "metadata": {},
   "outputs": [],
   "source": [
    "effective_features = [\"CreditScore\", \"Age\", \"Balance\", \"NumOfProducts\", \"Geography\", \"Gender\", \"IsActiveMember\"]"
   ]
  },
  {
   "cell_type": "code",
   "execution_count": 3,
   "id": "d6c13e97-d621-4fa9-913d-11183601e2e1",
   "metadata": {},
   "outputs": [],
   "source": [
    "continuous_features = [0, 1, 2, 3]\n",
    "categorical_features = [4, 5]\n",
    "target = \"Exited\""
   ]
  },
  {
   "cell_type": "code",
   "execution_count": 8,
   "id": "161f1cc6-4cdf-424c-817a-9da578a8cfb4",
   "metadata": {},
   "outputs": [],
   "source": [
    "scaler = StandardScaler()\n",
    "onehot = OneHotEncoder(handle_unknown=\"ignore\", drop=\"if_binary\")"
   ]
  },
  {
   "cell_type": "code",
   "execution_count": 9,
   "id": "7cefba2d-aed7-404d-a3b6-1082edeb06d4",
   "metadata": {},
   "outputs": [],
   "source": [
    "transform = ColumnTransformer([(\"num\", scaler, continuous_features), (\"cat\", onehot, categorical_features)], remainder=\"passthrough\")"
   ]
  },
  {
   "cell_type": "code",
   "execution_count": 24,
   "id": "15637d40-7017-417e-a42f-76023e1d1dbc",
   "metadata": {},
   "outputs": [],
   "source": [
    "model_gbm = lgb.Booster(model_file='./models/model.pkl')"
   ]
  },
  {
   "cell_type": "code",
   "execution_count": 4,
   "id": "9c580f02-0456-4ec5-8142-1d88bece1e9f",
   "metadata": {},
   "outputs": [],
   "source": [
    "model = md.load_model(\"./models/bank.keras\")"
   ]
  },
  {
   "cell_type": "code",
   "execution_count": 25,
   "id": "bd129776-d814-43e4-ad62-3bff6ef1fc61",
   "metadata": {},
   "outputs": [],
   "source": [
    "df = pd.read_csv(\"data/test.csv\")"
   ]
  },
  {
   "cell_type": "code",
   "execution_count": 26,
   "id": "82dc37cc-face-40f1-8b79-3feee94bcc9d",
   "metadata": {},
   "outputs": [],
   "source": [
    "x = transform.fit_transform(df[effective_features])"
   ]
  },
  {
   "cell_type": "code",
   "execution_count": 27,
   "id": "658fae98-10b0-4f8a-8dea-e85352ea2333",
   "metadata": {},
   "outputs": [],
   "source": [
    "y_pred = model_gbm.predict(x)"
   ]
  },
  {
   "cell_type": "code",
   "execution_count": 11,
   "id": "7bea0991-8b66-47ee-90b1-48c2a76690f8",
   "metadata": {},
   "outputs": [
    {
     "name": "stdout",
     "output_type": "stream",
     "text": [
      "3439/3439 [==============================] - 2s 527us/step\n"
     ]
    }
   ],
   "source": [
    "y_pred = model.predict(x, verbose=1)"
   ]
  },
  {
   "cell_type": "code",
   "execution_count": 28,
   "id": "b41f63eb-b594-44bb-9242-abfd324b504c",
   "metadata": {},
   "outputs": [],
   "source": [
    "df[\"Exited\"] = np.where(y_pred < 0.5, 0, 1)"
   ]
  },
  {
   "cell_type": "code",
   "execution_count": 2,
   "id": "f850bcbf-b240-4ecf-8559-626aef678040",
   "metadata": {},
   "outputs": [
    {
     "ename": "NameError",
     "evalue": "name 'df' is not defined",
     "output_type": "error",
     "traceback": [
      "\u001b[1;31m---------------------------------------------------------------------------\u001b[0m",
      "\u001b[1;31mNameError\u001b[0m                                 Traceback (most recent call last)",
      "Cell \u001b[1;32mIn[2], line 1\u001b[0m\n\u001b[1;32m----> 1\u001b[0m ans \u001b[38;5;241m=\u001b[39m \u001b[43mdf\u001b[49m\u001b[38;5;241m.\u001b[39mloc[:, [\u001b[38;5;124m\"\u001b[39m\u001b[38;5;124mid\u001b[39m\u001b[38;5;124m\"\u001b[39m, \u001b[38;5;124m\"\u001b[39m\u001b[38;5;124mExited\u001b[39m\u001b[38;5;124m\"\u001b[39m]]\n",
      "\u001b[1;31mNameError\u001b[0m: name 'df' is not defined"
     ]
    }
   ],
   "source": [
    "ans = df.loc[:, [\"id\", \"Exited\"]]"
   ]
  },
  {
   "cell_type": "code",
   "execution_count": 1,
   "id": "0872f16c-09e5-4028-8123-8a44a5a3ddc6",
   "metadata": {},
   "outputs": [
    {
     "ename": "NameError",
     "evalue": "name 'ans' is not defined",
     "output_type": "error",
     "traceback": [
      "\u001b[1;31m---------------------------------------------------------------------------\u001b[0m",
      "\u001b[1;31mNameError\u001b[0m                                 Traceback (most recent call last)",
      "Cell \u001b[1;32mIn[1], line 1\u001b[0m\n\u001b[1;32m----> 1\u001b[0m \u001b[43mans\u001b[49m\u001b[38;5;241m.\u001b[39mto_csv(\u001b[38;5;124m\"\u001b[39m\u001b[38;5;124m./data/submission.csv\u001b[39m\u001b[38;5;124m\"\u001b[39m, index\u001b[38;5;241m=\u001b[39m\u001b[38;5;28;01mTrue\u001b[39;00m)\n",
      "\u001b[1;31mNameError\u001b[0m: name 'ans' is not defined"
     ]
    }
   ],
   "source": [
    "ans.to_csv(\"./data/submission.csv\", index=False)"
   ]
  }
 ],
 "metadata": {
  "kernelspec": {
   "display_name": "Python 3 (ipykernel)",
   "language": "python",
   "name": "python3"
  },
  "language_info": {
   "codemirror_mode": {
    "name": "ipython",
    "version": 3
   },
   "file_extension": ".py",
   "mimetype": "text/x-python",
   "name": "python",
   "nbconvert_exporter": "python",
   "pygments_lexer": "ipython3",
   "version": "3.9.13"
  }
 },
 "nbformat": 4,
 "nbformat_minor": 5
}
