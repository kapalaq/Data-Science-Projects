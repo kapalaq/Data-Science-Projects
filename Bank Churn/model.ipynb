{
 "cells": [
  {
   "cell_type": "markdown",
   "id": "9e94c762-cc21-4d7a-baaa-84f6bed421f7",
   "metadata": {},
   "source": [
    "# Importing and Declarations"
   ]
  },
  {
   "cell_type": "markdown",
   "id": "ea251b29-b908-426a-b1bb-7ee5ccf39f2c",
   "metadata": {},
   "source": [
    "import numpy as np\n",
    "import pandas as pd\n",
    "import matplotlib as mpl\n",
    "import seaborn as sns\n",
    "import scipy as sp\n",
    "import sklearn as sk\n",
    "import tensorflow as tf"
   ]
  },
  {
   "cell_type": "code",
   "execution_count": 52,
   "id": "a2e98adf-c15d-4b72-acc8-01a3c9c58648",
   "metadata": {},
   "outputs": [
    {
     "name": "stdout",
     "output_type": "stream",
     "text": [
      "Pandas: 2.0.2 | NumPy: 1.24.3 | MatPlotLib: 3.7.1 | SciPy: 1.10.1 | Seaborn: 0.12.2 | Scikit-learn: 1.2.2 | Tensorflow: 2.13.0\n"
     ]
    }
   ],
   "source": [
    "print(f\"Pandas: {pd.__version__} | NumPy: {np.__version__} | MatPlotLib: {mpl.__version__} | SciPy: {sp.__version__} | Seaborn: {sns.__version__} | Scikit-learn: {sk.__version__} | Tensorflow: {tf.__version__}\")"
   ]
  },
  {
   "cell_type": "code",
   "execution_count": 2,
   "id": "17e18996-71b7-4fbe-9bc5-16d00d10c8f9",
   "metadata": {},
   "outputs": [],
   "source": [
    "filepath = \"data/train.csv\""
   ]
  },
  {
   "cell_type": "code",
   "execution_count": 3,
   "id": "5a6f0848-d7f0-4649-99d0-f56ba053dc17",
   "metadata": {},
   "outputs": [],
   "source": [
    "data = pd.read_csv(filepath)"
   ]
  },
  {
   "cell_type": "code",
   "execution_count": 5,
   "id": "a8632cc8-8952-4428-9d29-068329647e08",
   "metadata": {},
   "outputs": [
    {
     "data": {
      "text/html": [
       "<div>\n",
       "<style scoped>\n",
       "    .dataframe tbody tr th:only-of-type {\n",
       "        vertical-align: middle;\n",
       "    }\n",
       "\n",
       "    .dataframe tbody tr th {\n",
       "        vertical-align: top;\n",
       "    }\n",
       "\n",
       "    .dataframe thead th {\n",
       "        text-align: right;\n",
       "    }\n",
       "</style>\n",
       "<table border=\"1\" class=\"dataframe\">\n",
       "  <thead>\n",
       "    <tr style=\"text-align: right;\">\n",
       "      <th></th>\n",
       "      <th>id</th>\n",
       "      <th>CustomerId</th>\n",
       "      <th>Surname</th>\n",
       "      <th>CreditScore</th>\n",
       "      <th>Geography</th>\n",
       "      <th>Gender</th>\n",
       "      <th>Age</th>\n",
       "      <th>Tenure</th>\n",
       "      <th>Balance</th>\n",
       "      <th>NumOfProducts</th>\n",
       "      <th>HasCrCard</th>\n",
       "      <th>IsActiveMember</th>\n",
       "      <th>EstimatedSalary</th>\n",
       "      <th>Exited</th>\n",
       "    </tr>\n",
       "  </thead>\n",
       "  <tbody>\n",
       "    <tr>\n",
       "      <th>0</th>\n",
       "      <td>0</td>\n",
       "      <td>15674932</td>\n",
       "      <td>Okwudilichukwu</td>\n",
       "      <td>668</td>\n",
       "      <td>France</td>\n",
       "      <td>Male</td>\n",
       "      <td>33.0</td>\n",
       "      <td>3</td>\n",
       "      <td>0.00</td>\n",
       "      <td>2</td>\n",
       "      <td>1.0</td>\n",
       "      <td>0.0</td>\n",
       "      <td>181449.97</td>\n",
       "      <td>0</td>\n",
       "    </tr>\n",
       "    <tr>\n",
       "      <th>1</th>\n",
       "      <td>1</td>\n",
       "      <td>15749177</td>\n",
       "      <td>Okwudiliolisa</td>\n",
       "      <td>627</td>\n",
       "      <td>France</td>\n",
       "      <td>Male</td>\n",
       "      <td>33.0</td>\n",
       "      <td>1</td>\n",
       "      <td>0.00</td>\n",
       "      <td>2</td>\n",
       "      <td>1.0</td>\n",
       "      <td>1.0</td>\n",
       "      <td>49503.50</td>\n",
       "      <td>0</td>\n",
       "    </tr>\n",
       "    <tr>\n",
       "      <th>2</th>\n",
       "      <td>2</td>\n",
       "      <td>15694510</td>\n",
       "      <td>Hsueh</td>\n",
       "      <td>678</td>\n",
       "      <td>France</td>\n",
       "      <td>Male</td>\n",
       "      <td>40.0</td>\n",
       "      <td>10</td>\n",
       "      <td>0.00</td>\n",
       "      <td>2</td>\n",
       "      <td>1.0</td>\n",
       "      <td>0.0</td>\n",
       "      <td>184866.69</td>\n",
       "      <td>0</td>\n",
       "    </tr>\n",
       "    <tr>\n",
       "      <th>3</th>\n",
       "      <td>3</td>\n",
       "      <td>15741417</td>\n",
       "      <td>Kao</td>\n",
       "      <td>581</td>\n",
       "      <td>France</td>\n",
       "      <td>Male</td>\n",
       "      <td>34.0</td>\n",
       "      <td>2</td>\n",
       "      <td>148882.54</td>\n",
       "      <td>1</td>\n",
       "      <td>1.0</td>\n",
       "      <td>1.0</td>\n",
       "      <td>84560.88</td>\n",
       "      <td>0</td>\n",
       "    </tr>\n",
       "    <tr>\n",
       "      <th>4</th>\n",
       "      <td>4</td>\n",
       "      <td>15766172</td>\n",
       "      <td>Chiemenam</td>\n",
       "      <td>716</td>\n",
       "      <td>Spain</td>\n",
       "      <td>Male</td>\n",
       "      <td>33.0</td>\n",
       "      <td>5</td>\n",
       "      <td>0.00</td>\n",
       "      <td>2</td>\n",
       "      <td>1.0</td>\n",
       "      <td>1.0</td>\n",
       "      <td>15068.83</td>\n",
       "      <td>0</td>\n",
       "    </tr>\n",
       "  </tbody>\n",
       "</table>\n",
       "</div>"
      ],
      "text/plain": [
       "   id  CustomerId         Surname  CreditScore Geography Gender   Age  Tenure  \\\n",
       "0   0    15674932  Okwudilichukwu          668    France   Male  33.0       3   \n",
       "1   1    15749177   Okwudiliolisa          627    France   Male  33.0       1   \n",
       "2   2    15694510           Hsueh          678    France   Male  40.0      10   \n",
       "3   3    15741417             Kao          581    France   Male  34.0       2   \n",
       "4   4    15766172       Chiemenam          716     Spain   Male  33.0       5   \n",
       "\n",
       "     Balance  NumOfProducts  HasCrCard  IsActiveMember  EstimatedSalary  \\\n",
       "0       0.00              2        1.0             0.0        181449.97   \n",
       "1       0.00              2        1.0             1.0         49503.50   \n",
       "2       0.00              2        1.0             0.0        184866.69   \n",
       "3  148882.54              1        1.0             1.0         84560.88   \n",
       "4       0.00              2        1.0             1.0         15068.83   \n",
       "\n",
       "   Exited  \n",
       "0       0  \n",
       "1       0  \n",
       "2       0  \n",
       "3       0  \n",
       "4       0  "
      ]
     },
     "execution_count": 5,
     "metadata": {},
     "output_type": "execute_result"
    }
   ],
   "source": [
    "data.head()"
   ]
  },
  {
   "cell_type": "code",
   "execution_count": 4,
   "id": "7bb0a9f2-b28e-4d42-be66-d28cefe65305",
   "metadata": {},
   "outputs": [],
   "source": [
    "effective_features = [\"CreditScore\", \"Age\", \"Balance\", \"NumOfProducts\", \"Geography\", \"Gender\", \"IsActiveMember\"]"
   ]
  },
  {
   "cell_type": "code",
   "execution_count": 5,
   "id": "a56cf923-695f-406e-afff-c1087e213836",
   "metadata": {},
   "outputs": [],
   "source": [
    "continuous_features = [0, 1, 2, 3]\n",
    "categorical_features = [4, 5]\n",
    "target = \"Exited\""
   ]
  },
  {
   "cell_type": "code",
   "execution_count": 6,
   "id": "6aa5a90c-d9c7-4880-b4e6-59ce2e9ac5d4",
   "metadata": {},
   "outputs": [],
   "source": [
    "from sklearn.preprocessing import StandardScaler, OneHotEncoder\n",
    "from sklearn.model_selection import train_test_split, StratifiedKFold, cross_val_score\n",
    "from sklearn.metrics import accuracy_score, precision_score, recall_score, f1_score, confusion_matrix, make_scorer"
   ]
  },
  {
   "cell_type": "code",
   "execution_count": 7,
   "id": "8276ecdc-7308-408d-bd69-3f63b6774dc2",
   "metadata": {},
   "outputs": [],
   "source": [
    "from sklearn.pipeline import Pipeline\n",
    "from sklearn.compose import ColumnTransformer"
   ]
  },
  {
   "cell_type": "markdown",
   "id": "d9a163a6-b587-4971-bed9-f01f3a74d814",
   "metadata": {},
   "source": [
    "# Machine Learning Approach"
   ]
  },
  {
   "cell_type": "markdown",
   "id": "563b3191-eabd-48ad-9480-a1fbc47d3a25",
   "metadata": {},
   "source": [
    "## Data Preprocessing"
   ]
  },
  {
   "cell_type": "code",
   "execution_count": 8,
   "id": "384e0c6f-0de3-4718-97cf-005dc8dcec26",
   "metadata": {},
   "outputs": [],
   "source": [
    "x_train, x_test, y_train, y_test = train_test_split(data[effective_features], data[target], test_size=0.2, random_state=42, stratify=data[target])"
   ]
  },
  {
   "cell_type": "code",
   "execution_count": 9,
   "id": "5e5835a6-8302-490b-a2b9-f112b7c4225e",
   "metadata": {},
   "outputs": [],
   "source": [
    "scaler = StandardScaler()\n",
    "onehot = OneHotEncoder(handle_unknown=\"ignore\", drop=\"if_binary\")"
   ]
  },
  {
   "cell_type": "markdown",
   "id": "416f9366-73d2-4b4e-a301-caa416e49934",
   "metadata": {},
   "source": [
    "## Pipeline"
   ]
  },
  {
   "cell_type": "code",
   "execution_count": 10,
   "id": "461cec06-e4df-4ad1-950d-86ca42a1e02c",
   "metadata": {},
   "outputs": [],
   "source": [
    "def pipe(model):\n",
    "    transform = ColumnTransformer([(\"num\", scaler, continuous_features), (\"cat\", onehot, categorical_features)], remainder=\"passthrough\")\n",
    "    pipeline = Pipeline(steps=[(\"transform\", transform), (\"classifier\", model)])\n",
    "    pipeline.fit(x_train, y_train)\n",
    "\n",
    "    print(\">>> TRAINING DONE\\n\\n\")\n",
    "\n",
    "    y_pred = pipeline.predict(x_test)\n",
    "    tn, fp, fn, tp = confusion_matrix(y_test, y_pred).ravel()\n",
    "    print(\"\\tPositive\\tNegative\\t(Predicted)\")\n",
    "    print(f\"True\\t{tp}\\t\\t{fn}\")\n",
    "    print(f\"False\\t{fp}\\t\\t{tn}\")\n",
    "    print(\"Actual\")\n",
    "    print(\"\\n+--------------+\")\n",
    "    print(\"+----Metrics---+\")\n",
    "    print(\"+--------------+\")\n",
    "    \n",
    "    print(\"Accuracy: %.6f\" % accuracy_score(y_test, y_pred))\n",
    "    print(\"Precision: %.6f\" % precision_score(y_test, y_pred))\n",
    "    print(\"Recall: %.6f\" % recall_score(y_test, y_pred))\n",
    "    print(\"F1-score: %.6f\" % f1_score(y_test, y_pred))\n",
    "\n",
    "    print(\"\\n>>> METRICS DONE\\n\\n\")\n",
    "\n",
    "    cv = StratifiedKFold(n_splits=5)\n",
    "    \n",
    "    return np.mean(cross_val_score(pipeline, data[effective_features], data[target], cv=cv, scoring=make_scorer(f1_score)))"
   ]
  },
  {
   "cell_type": "markdown",
   "id": "31e359ad-9490-4e07-9b4f-6b37827a3383",
   "metadata": {
    "jp-MarkdownHeadingCollapsed": true
   },
   "source": [
    "## Dummy Classifier"
   ]
  },
  {
   "cell_type": "code",
   "execution_count": 24,
   "id": "64eace83-ca00-4f9f-8478-7279d71d5e14",
   "metadata": {},
   "outputs": [],
   "source": [
    "from sklearn.dummy import DummyClassifier"
   ]
  },
  {
   "cell_type": "code",
   "execution_count": 25,
   "id": "88f058c4-cc74-4a6f-9e11-71e25a30d6af",
   "metadata": {},
   "outputs": [
    {
     "name": "stdout",
     "output_type": "stream",
     "text": [
      ">>> TRAINING DONE\n",
      "\n",
      "\n",
      "\tPositive\tNegative\t(Predicted)\n",
      "True\t0\t\t6984\n",
      "False\t0\t\t26023\n",
      "Actual\n",
      "\n",
      "+--------------+\n",
      "+----Metrics---+\n",
      "+--------------+\n",
      "Accuracy: 0.788409\n",
      "Precision: 0.000000\n",
      "Recall: 0.000000\n",
      "F1-score: 0.000000\n",
      "\n",
      ">>> METRICS DONE\n",
      "\n",
      "\n"
     ]
    },
    {
     "name": "stderr",
     "output_type": "stream",
     "text": [
      "C:\\Users\\mainm\\AppData\\Local\\Programs\\Python\\Python39\\lib\\site-packages\\sklearn\\metrics\\_classification.py:1344: UndefinedMetricWarning: Precision is ill-defined and being set to 0.0 due to no predicted samples. Use `zero_division` parameter to control this behavior.\n",
      "  _warn_prf(average, modifier, msg_start, len(result))\n"
     ]
    },
    {
     "name": "stdout",
     "output_type": "stream",
     "text": [
      "CV (F1): 0.0\n"
     ]
    }
   ],
   "source": [
    "base_model = DummyClassifier(strategy=\"most_frequent\")\n",
    "print(\"CV (F1):\", pipe(base_model))"
   ]
  },
  {
   "cell_type": "markdown",
   "id": "412587fa-9f34-4166-966f-bf5f21dd0ec1",
   "metadata": {
    "jp-MarkdownHeadingCollapsed": true
   },
   "source": [
    "## Decision Tree"
   ]
  },
  {
   "cell_type": "code",
   "execution_count": 26,
   "id": "c0d20244-2118-4ad6-af32-ad3b8769b0c6",
   "metadata": {},
   "outputs": [],
   "source": [
    "from sklearn.tree import DecisionTreeClassifier"
   ]
  },
  {
   "cell_type": "code",
   "execution_count": 27,
   "id": "11353149-36ba-4664-a27f-366a8af27642",
   "metadata": {},
   "outputs": [],
   "source": [
    "dt_model = DecisionTreeClassifier(max_depth=10, min_samples_split=5)"
   ]
  },
  {
   "cell_type": "code",
   "execution_count": 28,
   "id": "65cbb9e9-dedd-464b-abcd-267c91203e31",
   "metadata": {},
   "outputs": [
    {
     "name": "stdout",
     "output_type": "stream",
     "text": [
      ">>> TRAINING DONE\n",
      "\n",
      "\n",
      "\tPositive\tNegative\t(Predicted)\n",
      "True\t3905\t\t3079\n",
      "False\t1524\t\t24499\n",
      "Actual\n",
      "\n",
      "+--------------+\n",
      "+----Metrics---+\n",
      "+--------------+\n",
      "Accuracy: 0.860545\n",
      "Precision: 0.719285\n",
      "Recall: 0.559135\n",
      "F1-score: 0.629179\n",
      "\n",
      ">>> METRICS DONE\n",
      "\n",
      "\n",
      "CV (F1): 0.6236146270946257\n"
     ]
    }
   ],
   "source": [
    "print(\"CV (F1):\", pipe(dt_model))"
   ]
  },
  {
   "cell_type": "markdown",
   "id": "8cb9b238-fd38-4bb7-808c-d44e9e99a317",
   "metadata": {
    "jp-MarkdownHeadingCollapsed": true
   },
   "source": [
    "## Random Forest"
   ]
  },
  {
   "cell_type": "code",
   "execution_count": 29,
   "id": "07767983-d15a-4112-b2e8-fe7e53581fe7",
   "metadata": {},
   "outputs": [],
   "source": [
    "from sklearn.ensemble import RandomForestClassifier"
   ]
  },
  {
   "cell_type": "code",
   "execution_count": 30,
   "id": "3c818ae7-fc78-4e51-b970-ca4d28e9d92e",
   "metadata": {},
   "outputs": [],
   "source": [
    "rf_model = RandomForestClassifier(n_estimators=50, min_samples_split=5)"
   ]
  },
  {
   "cell_type": "code",
   "execution_count": 31,
   "id": "a03b2a26-ef70-4ae1-93ad-b8496ceceebe",
   "metadata": {},
   "outputs": [
    {
     "name": "stdout",
     "output_type": "stream",
     "text": [
      ">>> TRAINING DONE\n",
      "\n",
      "\n",
      "\tPositive\tNegative\t(Predicted)\n",
      "True\t3786\t\t3198\n",
      "False\t1734\t\t24289\n",
      "Actual\n",
      "\n",
      "+--------------+\n",
      "+----Metrics---+\n",
      "+--------------+\n",
      "Accuracy: 0.850577\n",
      "Precision: 0.685870\n",
      "Recall: 0.542096\n",
      "F1-score: 0.605566\n",
      "\n",
      ">>> METRICS DONE\n",
      "\n",
      "\n",
      "CV (F1): 0.602879388382968\n"
     ]
    }
   ],
   "source": [
    "print(\"CV (F1):\", pipe(rf_model))"
   ]
  },
  {
   "cell_type": "markdown",
   "id": "f3663143-6e97-43fa-afae-696c3b0a4ba2",
   "metadata": {
    "jp-MarkdownHeadingCollapsed": true
   },
   "source": [
    "## Stochastic Gradient Descent Classifier"
   ]
  },
  {
   "cell_type": "code",
   "execution_count": 32,
   "id": "0d2c62e7-2b4f-41dd-b8c8-49831c217094",
   "metadata": {},
   "outputs": [],
   "source": [
    "from sklearn.linear_model import SGDClassifier"
   ]
  },
  {
   "cell_type": "code",
   "execution_count": 33,
   "id": "f476f487-b405-4f83-8fbb-476db30f90aa",
   "metadata": {},
   "outputs": [],
   "source": [
    "sgd = SGDClassifier(max_iter=50)"
   ]
  },
  {
   "cell_type": "code",
   "execution_count": 34,
   "id": "8b22c4ac-828a-4e2e-b149-bdaf803b37db",
   "metadata": {},
   "outputs": [
    {
     "name": "stdout",
     "output_type": "stream",
     "text": [
      ">>> TRAINING DONE\n",
      "\n",
      "\n",
      "\tPositive\tNegative\t(Predicted)\n",
      "True\t2558\t\t4426\n",
      "False\t1002\t\t25021\n",
      "Actual\n",
      "\n",
      "+--------------+\n",
      "+----Metrics---+\n",
      "+--------------+\n",
      "Accuracy: 0.835550\n",
      "Precision: 0.718539\n",
      "Recall: 0.366266\n",
      "F1-score: 0.485205\n",
      "\n",
      ">>> METRICS DONE\n",
      "\n",
      "\n",
      "CV (F1): 0.44469331125144407\n"
     ]
    }
   ],
   "source": [
    "print(\"CV (F1):\", pipe(sgd))"
   ]
  },
  {
   "cell_type": "markdown",
   "id": "0d241993-3042-4b8d-9e83-6ddfacaed95d",
   "metadata": {
    "jp-MarkdownHeadingCollapsed": true
   },
   "source": [
    "## Light Gradient Boosting Model"
   ]
  },
  {
   "cell_type": "code",
   "execution_count": 99,
   "id": "59e37a70-2b1c-4c8a-bfda-422ddbdbd2b4",
   "metadata": {},
   "outputs": [],
   "source": [
    "x_tr, x_val, y_tr, y_val = train_test_split(x_train, y_train, test_size=0.2, random_state=42)"
   ]
  },
  {
   "cell_type": "code",
   "execution_count": 100,
   "id": "63d16c20-abb3-4b85-93c0-55b970e57c6f",
   "metadata": {},
   "outputs": [],
   "source": [
    "import lightgbm as lgb"
   ]
  },
  {
   "cell_type": "code",
   "execution_count": 101,
   "id": "9d6edf92-3ad2-4773-8923-d7fac4cf584a",
   "metadata": {},
   "outputs": [],
   "source": [
    "params = {\n",
    "    'boosting_type': 'gbdt',\n",
    "    'objective': 'binary',\n",
    "    'metric': 'binary_logloss',\n",
    "    'num_leaves': 31,\n",
    "    'learning_rate': 0.05,\n",
    "    'feature_fraction': 0.9,\n",
    "    'bagging_fraction': 0.8,\n",
    "    'bagging_freq': 5,\n",
    "    'verbose': -1\n",
    "}"
   ]
  },
  {
   "cell_type": "code",
   "execution_count": 102,
   "id": "96ec4fe2-11db-4e12-abbc-f18027b9f1b0",
   "metadata": {},
   "outputs": [],
   "source": [
    "tfm = ColumnTransformer([(\"num\", scaler, continuous_features), (\"cat\", onehot, categorical_features)], remainder=\"passthrough\")"
   ]
  },
  {
   "cell_type": "code",
   "execution_count": 103,
   "id": "b63800df-932f-41b0-9a36-aee1fbfe8bfe",
   "metadata": {},
   "outputs": [],
   "source": [
    "lgb_train = lgb.Dataset(tfm.fit_transform(x_tr), y_tr)\n",
    "lgb_val = lgb.Dataset(tfm.transform(x_val), y_val, reference=lgb_train)"
   ]
  },
  {
   "cell_type": "code",
   "execution_count": 104,
   "id": "9c35b19b-d637-4f22-92a8-12471106bea3",
   "metadata": {},
   "outputs": [],
   "source": [
    "gbm = lgb.train(params, lgb_train, num_boost_round=2000, valid_sets=[lgb_train, lgb_val])"
   ]
  },
  {
   "cell_type": "code",
   "execution_count": 105,
   "id": "bbe9c134-251d-47af-b0fa-f98f6de7e129",
   "metadata": {},
   "outputs": [],
   "source": [
    "y_pred = gbm.predict(tfm.transform(x_test))"
   ]
  },
  {
   "cell_type": "code",
   "execution_count": 106,
   "id": "67387aea-3f24-4de0-9f2d-23bf4491d58b",
   "metadata": {},
   "outputs": [],
   "source": [
    "y_pred = np.round(y_pred)"
   ]
  },
  {
   "cell_type": "code",
   "execution_count": 107,
   "id": "00f0240a-81e6-4a20-b689-187f716e689a",
   "metadata": {},
   "outputs": [
    {
     "name": "stdout",
     "output_type": "stream",
     "text": [
      "\tPositive\tNegative\t(Predicted)\n",
      "True\t3844\t\t3140\n",
      "False\t1423\t\t24600\n",
      "Actual\n",
      "\n",
      "+--------------+\n",
      "+----Metrics---+\n",
      "+--------------+\n",
      "Accuracy: 0.861757\n",
      "Precision: 0.729827\n",
      "Recall: 0.550401\n",
      "F1-score: 0.627541\n"
     ]
    }
   ],
   "source": [
    "tn, fp, fn, tp = confusion_matrix(y_test, y_pred).ravel()\n",
    "print(\"\\tPositive\\tNegative\\t(Predicted)\")\n",
    "print(f\"True\\t{tp}\\t\\t{fn}\")\n",
    "print(f\"False\\t{fp}\\t\\t{tn}\")\n",
    "print(\"Actual\")\n",
    "print(\"\\n+--------------+\")\n",
    "print(\"+----Metrics---+\")\n",
    "print(\"+--------------+\")\n",
    "\n",
    "print(\"Accuracy: %.6f\" % accuracy_score(y_test, y_pred))\n",
    "print(\"Precision: %.6f\" % precision_score(y_test, y_pred))\n",
    "print(\"Recall: %.6f\" % recall_score(y_test, y_pred))\n",
    "print(\"F1-score: %.6f\" % f1_score(y_test, y_pred))\n"
   ]
  },
  {
   "cell_type": "markdown",
   "id": "94940339-187e-4e75-9b85-9ff00b8a6f96",
   "metadata": {},
   "source": [
    "# Neural Network Approach"
   ]
  },
  {
   "cell_type": "code",
   "execution_count": 13,
   "id": "e85e4b13-0d10-4129-8d91-41ebd53ac5cd",
   "metadata": {},
   "outputs": [],
   "source": [
    "from tensorflow.keras import models\n",
    "from tensorflow.keras.models import Sequential\n",
    "from tensorflow.keras.layers import Dense, Dropout\n",
    "from tensorflow.keras.optimizers import Adam\n",
    "from tensorflow.keras.initializers import GlorotUniform, HeNormal\n",
    "from tensorflow.keras.callbacks import EarlyStopping"
   ]
  },
  {
   "cell_type": "code",
   "execution_count": 82,
   "id": "e0aa5d74-789c-4f5e-b219-8ba1d61c3222",
   "metadata": {},
   "outputs": [],
   "source": [
    "x_t = tfm.fit_transform(x_tr).astype(\"float64\")\n",
    "x_te = tfm.transform(x_val).astype(\"float64\")"
   ]
  },
  {
   "cell_type": "code",
   "execution_count": 83,
   "id": "908175af-536d-4472-b6c6-8128271101cf",
   "metadata": {},
   "outputs": [],
   "source": [
    "hidden = 96\n",
    "output = 1\n",
    "\n",
    "nn_model = Sequential([Dense(units=hidden, input_dim=x_t.shape[1], activation=\"relu\", kernel_initializer=HeNormal),\n",
    "                       Dropout(0.6),\n",
    "                       Dense(units=hidden, input_dim=hidden, activation=\"relu\", kernel_initializer=HeNormal),\n",
    "                       Dropout(0.3),\n",
    "                       Dense(units=hidden, input_dim=hidden, activation=\"relu\", kernel_initializer=HeNormal),\n",
    "                       Dense(units=hidden, input_dim=hidden, activation=\"relu\", kernel_initializer=HeNormal),\n",
    "                       Dropout(0.3),\n",
    "                       Dense(units=output, input_dim=hidden, activation=\"sigmoid\", kernel_initializer=GlorotUniform)])\n"
   ]
  },
  {
   "cell_type": "code",
   "execution_count": 84,
   "id": "55d75e7c-5973-4221-b83a-a44b8c3c3b98",
   "metadata": {},
   "outputs": [],
   "source": [
    "opt = Adam(learning_rate=0.05)\n",
    "early = EarlyStopping(monitor=\"val_loss\", patience=100, restore_best_weights=True)"
   ]
  },
  {
   "cell_type": "code",
   "execution_count": 85,
   "id": "8fbc23bc-eb20-4c1f-8f05-9c60ce561e5c",
   "metadata": {},
   "outputs": [],
   "source": [
    "nn_model.compile(loss=\"binary_crossentropy\", optimizer=opt, metrics=[\"accuracy\"])"
   ]
  },
  {
   "cell_type": "code",
   "execution_count": 88,
   "id": "072f8e14-b29c-4ea6-85e9-04ad5d18639d",
   "metadata": {},
   "outputs": [
    {
     "name": "stdout",
     "output_type": "stream",
     "text": [
      "Epoch 1/1000\n",
      "22/22 [==============================] - 1s 20ms/step - loss: 0.8222 - accuracy: 0.7861 - val_loss: 0.3970 - val_accuracy: 0.8321\n",
      "Epoch 2/1000\n",
      "22/22 [==============================] - 0s 16ms/step - loss: 0.4085 - accuracy: 0.8203 - val_loss: 0.3593 - val_accuracy: 0.8533\n",
      "Epoch 3/1000\n",
      "22/22 [==============================] - 0s 15ms/step - loss: 0.3789 - accuracy: 0.8380 - val_loss: 0.3404 - val_accuracy: 0.8608\n",
      "Epoch 4/1000\n",
      "22/22 [==============================] - 0s 15ms/step - loss: 0.3683 - accuracy: 0.8434 - val_loss: 0.3392 - val_accuracy: 0.8628\n",
      "Epoch 5/1000\n",
      "22/22 [==============================] - 0s 15ms/step - loss: 0.3632 - accuracy: 0.8471 - val_loss: 0.3321 - val_accuracy: 0.8634\n",
      "Epoch 6/1000\n",
      "22/22 [==============================] - 0s 15ms/step - loss: 0.3591 - accuracy: 0.8506 - val_loss: 0.3302 - val_accuracy: 0.8640\n",
      "Epoch 7/1000\n",
      "22/22 [==============================] - 0s 15ms/step - loss: 0.3542 - accuracy: 0.8531 - val_loss: 0.3440 - val_accuracy: 0.8637\n",
      "Epoch 8/1000\n",
      "22/22 [==============================] - 0s 15ms/step - loss: 0.3530 - accuracy: 0.8549 - val_loss: 0.3412 - val_accuracy: 0.8647\n",
      "Epoch 9/1000\n",
      "22/22 [==============================] - 0s 16ms/step - loss: 0.3503 - accuracy: 0.8554 - val_loss: 0.3316 - val_accuracy: 0.8653\n",
      "Epoch 10/1000\n",
      "22/22 [==============================] - 0s 16ms/step - loss: 0.3477 - accuracy: 0.8558 - val_loss: 0.3311 - val_accuracy: 0.8650\n",
      "Epoch 11/1000\n",
      "22/22 [==============================] - 0s 16ms/step - loss: 0.3468 - accuracy: 0.8572 - val_loss: 0.3284 - val_accuracy: 0.8646\n",
      "Epoch 12/1000\n",
      "22/22 [==============================] - 0s 17ms/step - loss: 0.3482 - accuracy: 0.8569 - val_loss: 0.3345 - val_accuracy: 0.8655\n",
      "Epoch 13/1000\n",
      "22/22 [==============================] - 0s 18ms/step - loss: 0.3465 - accuracy: 0.8570 - val_loss: 0.3372 - val_accuracy: 0.8651\n",
      "Epoch 14/1000\n",
      "22/22 [==============================] - 0s 17ms/step - loss: 0.3464 - accuracy: 0.8576 - val_loss: 0.3307 - val_accuracy: 0.8638\n",
      "Epoch 15/1000\n",
      "22/22 [==============================] - 0s 16ms/step - loss: 0.3465 - accuracy: 0.8576 - val_loss: 0.3275 - val_accuracy: 0.8656\n",
      "Epoch 16/1000\n",
      "22/22 [==============================] - 0s 16ms/step - loss: 0.3428 - accuracy: 0.8588 - val_loss: 0.3390 - val_accuracy: 0.8650\n",
      "Epoch 17/1000\n",
      "22/22 [==============================] - 0s 15ms/step - loss: 0.3461 - accuracy: 0.8576 - val_loss: 0.3283 - val_accuracy: 0.8636\n",
      "Epoch 18/1000\n",
      "22/22 [==============================] - 0s 16ms/step - loss: 0.3451 - accuracy: 0.8572 - val_loss: 0.3328 - val_accuracy: 0.8650\n",
      "Epoch 19/1000\n",
      "22/22 [==============================] - 0s 15ms/step - loss: 0.3451 - accuracy: 0.8577 - val_loss: 0.3352 - val_accuracy: 0.8652\n",
      "Epoch 20/1000\n",
      "22/22 [==============================] - 0s 16ms/step - loss: 0.3433 - accuracy: 0.8582 - val_loss: 0.3286 - val_accuracy: 0.8644\n",
      "Epoch 21/1000\n",
      "22/22 [==============================] - 0s 15ms/step - loss: 0.3441 - accuracy: 0.8576 - val_loss: 0.3286 - val_accuracy: 0.8646\n",
      "Epoch 22/1000\n",
      "22/22 [==============================] - 0s 15ms/step - loss: 0.3453 - accuracy: 0.8572 - val_loss: 0.3274 - val_accuracy: 0.8644\n",
      "Epoch 23/1000\n",
      "22/22 [==============================] - 0s 15ms/step - loss: 0.3448 - accuracy: 0.8578 - val_loss: 0.3284 - val_accuracy: 0.8646\n",
      "Epoch 24/1000\n",
      "22/22 [==============================] - 0s 15ms/step - loss: 0.3444 - accuracy: 0.8575 - val_loss: 0.3269 - val_accuracy: 0.8645\n",
      "Epoch 25/1000\n",
      "22/22 [==============================] - 0s 16ms/step - loss: 0.3438 - accuracy: 0.8568 - val_loss: 0.3280 - val_accuracy: 0.8658\n",
      "Epoch 26/1000\n",
      "22/22 [==============================] - 0s 16ms/step - loss: 0.3432 - accuracy: 0.8588 - val_loss: 0.3309 - val_accuracy: 0.8587\n",
      "Epoch 27/1000\n",
      "22/22 [==============================] - 0s 16ms/step - loss: 0.3447 - accuracy: 0.8577 - val_loss: 0.3263 - val_accuracy: 0.8647\n",
      "Epoch 28/1000\n",
      "22/22 [==============================] - 0s 16ms/step - loss: 0.3445 - accuracy: 0.8584 - val_loss: 0.3248 - val_accuracy: 0.8652\n",
      "Epoch 29/1000\n",
      "22/22 [==============================] - 0s 16ms/step - loss: 0.3435 - accuracy: 0.8587 - val_loss: 0.3291 - val_accuracy: 0.8652\n",
      "Epoch 30/1000\n",
      "22/22 [==============================] - 0s 15ms/step - loss: 0.3430 - accuracy: 0.8589 - val_loss: 0.3266 - val_accuracy: 0.8654\n",
      "Epoch 31/1000\n",
      "22/22 [==============================] - 0s 15ms/step - loss: 0.3428 - accuracy: 0.8595 - val_loss: 0.3270 - val_accuracy: 0.8658\n",
      "Epoch 32/1000\n",
      "22/22 [==============================] - 0s 15ms/step - loss: 0.3423 - accuracy: 0.8576 - val_loss: 0.3316 - val_accuracy: 0.8655\n",
      "Epoch 33/1000\n",
      "22/22 [==============================] - 0s 15ms/step - loss: 0.3424 - accuracy: 0.8590 - val_loss: 0.3266 - val_accuracy: 0.8661\n",
      "Epoch 34/1000\n",
      "22/22 [==============================] - 0s 15ms/step - loss: 0.3435 - accuracy: 0.8580 - val_loss: 0.3312 - val_accuracy: 0.8633\n",
      "Epoch 35/1000\n",
      "22/22 [==============================] - 0s 15ms/step - loss: 0.3437 - accuracy: 0.8595 - val_loss: 0.3236 - val_accuracy: 0.8662\n",
      "Epoch 36/1000\n",
      "22/22 [==============================] - 0s 15ms/step - loss: 0.3428 - accuracy: 0.8580 - val_loss: 0.3269 - val_accuracy: 0.8641\n",
      "Epoch 37/1000\n",
      "22/22 [==============================] - 0s 15ms/step - loss: 0.3428 - accuracy: 0.8588 - val_loss: 0.3248 - val_accuracy: 0.8633\n",
      "Epoch 38/1000\n",
      "22/22 [==============================] - 0s 15ms/step - loss: 0.3436 - accuracy: 0.8596 - val_loss: 0.3249 - val_accuracy: 0.8649\n",
      "Epoch 39/1000\n",
      "22/22 [==============================] - 0s 15ms/step - loss: 0.3435 - accuracy: 0.8573 - val_loss: 0.3247 - val_accuracy: 0.8651\n",
      "Epoch 40/1000\n",
      "22/22 [==============================] - 0s 15ms/step - loss: 0.3429 - accuracy: 0.8578 - val_loss: 0.3365 - val_accuracy: 0.8568\n",
      "Epoch 41/1000\n",
      "22/22 [==============================] - 0s 16ms/step - loss: 0.3416 - accuracy: 0.8573 - val_loss: 0.3261 - val_accuracy: 0.8606\n",
      "Epoch 42/1000\n",
      "22/22 [==============================] - 0s 15ms/step - loss: 0.3445 - accuracy: 0.8567 - val_loss: 0.3275 - val_accuracy: 0.8647\n",
      "Epoch 43/1000\n",
      "22/22 [==============================] - 0s 17ms/step - loss: 0.3425 - accuracy: 0.8591 - val_loss: 0.3294 - val_accuracy: 0.8654\n",
      "Epoch 44/1000\n",
      "22/22 [==============================] - 0s 16ms/step - loss: 0.3439 - accuracy: 0.8584 - val_loss: 0.3270 - val_accuracy: 0.8647\n",
      "Epoch 45/1000\n",
      "22/22 [==============================] - 0s 15ms/step - loss: 0.3432 - accuracy: 0.8576 - val_loss: 0.3249 - val_accuracy: 0.8640\n",
      "Epoch 46/1000\n",
      "22/22 [==============================] - 0s 16ms/step - loss: 0.3417 - accuracy: 0.8584 - val_loss: 0.3255 - val_accuracy: 0.8645\n",
      "Epoch 47/1000\n",
      "22/22 [==============================] - 0s 16ms/step - loss: 0.3437 - accuracy: 0.8573 - val_loss: 0.3296 - val_accuracy: 0.8625\n",
      "Epoch 48/1000\n",
      "22/22 [==============================] - 0s 17ms/step - loss: 0.3420 - accuracy: 0.8582 - val_loss: 0.3272 - val_accuracy: 0.8640\n",
      "Epoch 49/1000\n",
      "22/22 [==============================] - 0s 15ms/step - loss: 0.3426 - accuracy: 0.8579 - val_loss: 0.3284 - val_accuracy: 0.8599\n",
      "Epoch 50/1000\n",
      "22/22 [==============================] - 0s 16ms/step - loss: 0.3420 - accuracy: 0.8582 - val_loss: 0.3293 - val_accuracy: 0.8652\n",
      "Epoch 51/1000\n",
      "22/22 [==============================] - 0s 17ms/step - loss: 0.3446 - accuracy: 0.8564 - val_loss: 0.3275 - val_accuracy: 0.8652\n",
      "Epoch 52/1000\n",
      "22/22 [==============================] - 0s 15ms/step - loss: 0.3425 - accuracy: 0.8578 - val_loss: 0.3265 - val_accuracy: 0.8656\n",
      "Epoch 53/1000\n",
      "22/22 [==============================] - 0s 16ms/step - loss: 0.3424 - accuracy: 0.8580 - val_loss: 0.3247 - val_accuracy: 0.8658\n",
      "Epoch 54/1000\n",
      "22/22 [==============================] - 0s 14ms/step - loss: 0.3442 - accuracy: 0.8568 - val_loss: 0.3256 - val_accuracy: 0.8629\n",
      "Epoch 55/1000\n",
      "22/22 [==============================] - 0s 15ms/step - loss: 0.3421 - accuracy: 0.8579 - val_loss: 0.3365 - val_accuracy: 0.8649\n",
      "Epoch 56/1000\n",
      "22/22 [==============================] - 0s 15ms/step - loss: 0.3431 - accuracy: 0.8588 - val_loss: 0.3272 - val_accuracy: 0.8647\n",
      "Epoch 57/1000\n",
      "22/22 [==============================] - 0s 17ms/step - loss: 0.3437 - accuracy: 0.8575 - val_loss: 0.3294 - val_accuracy: 0.8628\n",
      "Epoch 58/1000\n",
      "22/22 [==============================] - 0s 16ms/step - loss: 0.3435 - accuracy: 0.8574 - val_loss: 0.3250 - val_accuracy: 0.8636\n",
      "Epoch 59/1000\n",
      "22/22 [==============================] - 0s 18ms/step - loss: 0.3431 - accuracy: 0.8577 - val_loss: 0.3310 - val_accuracy: 0.8637\n",
      "Epoch 60/1000\n",
      "22/22 [==============================] - 0s 19ms/step - loss: 0.3422 - accuracy: 0.8585 - val_loss: 0.3283 - val_accuracy: 0.8637\n",
      "Epoch 61/1000\n",
      "22/22 [==============================] - 0s 20ms/step - loss: 0.3425 - accuracy: 0.8584 - val_loss: 0.3276 - val_accuracy: 0.8657\n",
      "Epoch 62/1000\n",
      "22/22 [==============================] - 0s 16ms/step - loss: 0.3447 - accuracy: 0.8585 - val_loss: 0.3234 - val_accuracy: 0.8651\n",
      "Epoch 63/1000\n",
      "22/22 [==============================] - 0s 19ms/step - loss: 0.3447 - accuracy: 0.8571 - val_loss: 0.3292 - val_accuracy: 0.8636\n",
      "Epoch 64/1000\n",
      "22/22 [==============================] - 0s 16ms/step - loss: 0.3442 - accuracy: 0.8586 - val_loss: 0.3249 - val_accuracy: 0.8643\n",
      "Epoch 65/1000\n",
      "22/22 [==============================] - 0s 20ms/step - loss: 0.3441 - accuracy: 0.8574 - val_loss: 0.3341 - val_accuracy: 0.8648\n",
      "Epoch 66/1000\n",
      "22/22 [==============================] - 0s 17ms/step - loss: 0.3450 - accuracy: 0.8576 - val_loss: 0.3247 - val_accuracy: 0.8643\n",
      "Epoch 67/1000\n",
      "22/22 [==============================] - 0s 17ms/step - loss: 0.3439 - accuracy: 0.8573 - val_loss: 0.3319 - val_accuracy: 0.8650\n",
      "Epoch 68/1000\n",
      "22/22 [==============================] - 0s 14ms/step - loss: 0.3433 - accuracy: 0.8582 - val_loss: 0.3263 - val_accuracy: 0.8638\n",
      "Epoch 69/1000\n",
      "22/22 [==============================] - 0s 15ms/step - loss: 0.3450 - accuracy: 0.8573 - val_loss: 0.3299 - val_accuracy: 0.8551\n",
      "Epoch 70/1000\n",
      "22/22 [==============================] - 0s 16ms/step - loss: 0.3462 - accuracy: 0.8567 - val_loss: 0.3292 - val_accuracy: 0.8633\n",
      "Epoch 71/1000\n",
      "22/22 [==============================] - 0s 15ms/step - loss: 0.3451 - accuracy: 0.8588 - val_loss: 0.3320 - val_accuracy: 0.8615\n",
      "Epoch 72/1000\n",
      "22/22 [==============================] - 0s 14ms/step - loss: 0.3442 - accuracy: 0.8579 - val_loss: 0.3419 - val_accuracy: 0.8642\n",
      "Epoch 73/1000\n",
      "22/22 [==============================] - 0s 15ms/step - loss: 0.3460 - accuracy: 0.8582 - val_loss: 0.3252 - val_accuracy: 0.8658\n",
      "Epoch 74/1000\n",
      "22/22 [==============================] - 0s 14ms/step - loss: 0.3432 - accuracy: 0.8586 - val_loss: 0.3286 - val_accuracy: 0.8652\n",
      "Epoch 75/1000\n",
      "22/22 [==============================] - 0s 14ms/step - loss: 0.3436 - accuracy: 0.8575 - val_loss: 0.3251 - val_accuracy: 0.8649\n",
      "Epoch 76/1000\n",
      "22/22 [==============================] - 0s 15ms/step - loss: 0.3424 - accuracy: 0.8576 - val_loss: 0.3308 - val_accuracy: 0.8564\n",
      "Epoch 77/1000\n",
      "22/22 [==============================] - 0s 14ms/step - loss: 0.3414 - accuracy: 0.8589 - val_loss: 0.3237 - val_accuracy: 0.8656\n",
      "Epoch 78/1000\n",
      "22/22 [==============================] - 0s 14ms/step - loss: 0.3439 - accuracy: 0.8568 - val_loss: 0.3269 - val_accuracy: 0.8634\n",
      "Epoch 79/1000\n",
      "22/22 [==============================] - 0s 15ms/step - loss: 0.3425 - accuracy: 0.8586 - val_loss: 0.3272 - val_accuracy: 0.8655\n",
      "Epoch 80/1000\n",
      "22/22 [==============================] - 0s 14ms/step - loss: 0.3426 - accuracy: 0.8570 - val_loss: 0.3271 - val_accuracy: 0.8658\n",
      "Epoch 81/1000\n",
      "22/22 [==============================] - 0s 15ms/step - loss: 0.3418 - accuracy: 0.8585 - val_loss: 0.3255 - val_accuracy: 0.8652\n",
      "Epoch 82/1000\n",
      "22/22 [==============================] - 0s 16ms/step - loss: 0.3408 - accuracy: 0.8592 - val_loss: 0.3254 - val_accuracy: 0.8661\n",
      "Epoch 83/1000\n",
      "22/22 [==============================] - 0s 14ms/step - loss: 0.3415 - accuracy: 0.8581 - val_loss: 0.3269 - val_accuracy: 0.8646\n",
      "Epoch 84/1000\n",
      "22/22 [==============================] - 0s 15ms/step - loss: 0.3437 - accuracy: 0.8580 - val_loss: 0.3266 - val_accuracy: 0.8658\n",
      "Epoch 85/1000\n",
      "22/22 [==============================] - 0s 15ms/step - loss: 0.3452 - accuracy: 0.8579 - val_loss: 0.3296 - val_accuracy: 0.8585\n",
      "Epoch 86/1000\n",
      "22/22 [==============================] - 0s 15ms/step - loss: 0.3426 - accuracy: 0.8577 - val_loss: 0.3277 - val_accuracy: 0.8654\n",
      "Epoch 87/1000\n",
      "22/22 [==============================] - 0s 17ms/step - loss: 0.3435 - accuracy: 0.8579 - val_loss: 0.3295 - val_accuracy: 0.8577\n",
      "Epoch 88/1000\n",
      "22/22 [==============================] - 0s 16ms/step - loss: 0.3443 - accuracy: 0.8563 - val_loss: 0.3244 - val_accuracy: 0.8653\n",
      "Epoch 89/1000\n",
      "22/22 [==============================] - 0s 16ms/step - loss: 0.3433 - accuracy: 0.8573 - val_loss: 0.3283 - val_accuracy: 0.8654\n",
      "Epoch 90/1000\n",
      "22/22 [==============================] - 0s 17ms/step - loss: 0.3419 - accuracy: 0.8586 - val_loss: 0.3308 - val_accuracy: 0.8618\n",
      "Epoch 91/1000\n",
      "22/22 [==============================] - 0s 16ms/step - loss: 0.3438 - accuracy: 0.8573 - val_loss: 0.3319 - val_accuracy: 0.8653\n",
      "Epoch 92/1000\n",
      "22/22 [==============================] - 0s 17ms/step - loss: 0.3432 - accuracy: 0.8578 - val_loss: 0.3268 - val_accuracy: 0.8657\n",
      "Epoch 93/1000\n",
      "22/22 [==============================] - 0s 15ms/step - loss: 0.3421 - accuracy: 0.8583 - val_loss: 0.3235 - val_accuracy: 0.8658\n",
      "Epoch 94/1000\n",
      "22/22 [==============================] - 0s 15ms/step - loss: 0.3447 - accuracy: 0.8568 - val_loss: 0.3248 - val_accuracy: 0.8636\n",
      "Epoch 95/1000\n",
      "22/22 [==============================] - 0s 14ms/step - loss: 0.3416 - accuracy: 0.8569 - val_loss: 0.3256 - val_accuracy: 0.8655\n",
      "Epoch 96/1000\n",
      "22/22 [==============================] - 0s 16ms/step - loss: 0.3432 - accuracy: 0.8570 - val_loss: 0.3250 - val_accuracy: 0.8645\n",
      "Epoch 97/1000\n",
      "22/22 [==============================] - 0s 15ms/step - loss: 0.3427 - accuracy: 0.8586 - val_loss: 0.3306 - val_accuracy: 0.8649\n",
      "Epoch 98/1000\n",
      "22/22 [==============================] - 0s 15ms/step - loss: 0.3434 - accuracy: 0.8583 - val_loss: 0.3246 - val_accuracy: 0.8654\n",
      "Epoch 99/1000\n",
      "22/22 [==============================] - 0s 15ms/step - loss: 0.3421 - accuracy: 0.8586 - val_loss: 0.3277 - val_accuracy: 0.8653\n",
      "Epoch 100/1000\n",
      "22/22 [==============================] - 0s 14ms/step - loss: 0.3477 - accuracy: 0.8579 - val_loss: 0.3418 - val_accuracy: 0.8654\n",
      "Epoch 101/1000\n",
      "22/22 [==============================] - 0s 14ms/step - loss: 0.3469 - accuracy: 0.8553 - val_loss: 0.3328 - val_accuracy: 0.8639\n",
      "Epoch 102/1000\n",
      "22/22 [==============================] - 0s 14ms/step - loss: 0.3460 - accuracy: 0.8556 - val_loss: 0.3264 - val_accuracy: 0.8656\n",
      "Epoch 103/1000\n",
      "22/22 [==============================] - 0s 14ms/step - loss: 0.3431 - accuracy: 0.8581 - val_loss: 0.3296 - val_accuracy: 0.8627\n",
      "Epoch 104/1000\n",
      "22/22 [==============================] - 0s 14ms/step - loss: 0.3425 - accuracy: 0.8565 - val_loss: 0.3342 - val_accuracy: 0.8528\n",
      "Epoch 105/1000\n",
      "22/22 [==============================] - 0s 15ms/step - loss: 0.3442 - accuracy: 0.8567 - val_loss: 0.3317 - val_accuracy: 0.8626\n",
      "Epoch 106/1000\n",
      "22/22 [==============================] - 0s 16ms/step - loss: 0.3444 - accuracy: 0.8569 - val_loss: 0.3259 - val_accuracy: 0.8668\n",
      "Epoch 107/1000\n",
      "22/22 [==============================] - 0s 14ms/step - loss: 0.3434 - accuracy: 0.8565 - val_loss: 0.3264 - val_accuracy: 0.8625\n",
      "Epoch 108/1000\n",
      "22/22 [==============================] - 0s 15ms/step - loss: 0.3423 - accuracy: 0.8575 - val_loss: 0.3254 - val_accuracy: 0.8650\n",
      "Epoch 109/1000\n",
      "22/22 [==============================] - 0s 16ms/step - loss: 0.3426 - accuracy: 0.8571 - val_loss: 0.3266 - val_accuracy: 0.8637\n",
      "Epoch 110/1000\n",
      "22/22 [==============================] - 0s 15ms/step - loss: 0.3453 - accuracy: 0.8574 - val_loss: 0.3255 - val_accuracy: 0.8651\n",
      "Epoch 111/1000\n",
      "22/22 [==============================] - 0s 15ms/step - loss: 0.3436 - accuracy: 0.8577 - val_loss: 0.3242 - val_accuracy: 0.8653\n",
      "Epoch 112/1000\n",
      "22/22 [==============================] - 0s 14ms/step - loss: 0.3428 - accuracy: 0.8579 - val_loss: 0.3265 - val_accuracy: 0.8639\n",
      "Epoch 113/1000\n",
      "22/22 [==============================] - 0s 14ms/step - loss: 0.3435 - accuracy: 0.8586 - val_loss: 0.3262 - val_accuracy: 0.8648\n",
      "Epoch 114/1000\n",
      "22/22 [==============================] - 0s 15ms/step - loss: 0.3428 - accuracy: 0.8579 - val_loss: 0.3265 - val_accuracy: 0.8617\n",
      "Epoch 115/1000\n",
      "22/22 [==============================] - 0s 14ms/step - loss: 0.3421 - accuracy: 0.8578 - val_loss: 0.3240 - val_accuracy: 0.8645\n",
      "Epoch 116/1000\n",
      "22/22 [==============================] - 0s 16ms/step - loss: 0.3436 - accuracy: 0.8575 - val_loss: 0.3260 - val_accuracy: 0.8620\n",
      "Epoch 117/1000\n",
      "22/22 [==============================] - 0s 16ms/step - loss: 0.3447 - accuracy: 0.8568 - val_loss: 0.3280 - val_accuracy: 0.8640\n",
      "Epoch 118/1000\n",
      "22/22 [==============================] - 0s 15ms/step - loss: 0.3442 - accuracy: 0.8566 - val_loss: 0.3249 - val_accuracy: 0.8651\n",
      "Epoch 119/1000\n",
      "22/22 [==============================] - 0s 14ms/step - loss: 0.3443 - accuracy: 0.8577 - val_loss: 0.3326 - val_accuracy: 0.8647\n",
      "Epoch 120/1000\n",
      "22/22 [==============================] - 0s 16ms/step - loss: 0.3481 - accuracy: 0.8562 - val_loss: 0.3356 - val_accuracy: 0.8648\n",
      "Epoch 121/1000\n",
      "22/22 [==============================] - 0s 17ms/step - loss: 0.3483 - accuracy: 0.8578 - val_loss: 0.3267 - val_accuracy: 0.8654\n",
      "Epoch 122/1000\n",
      "22/22 [==============================] - 0s 17ms/step - loss: 0.3441 - accuracy: 0.8583 - val_loss: 0.3251 - val_accuracy: 0.8647\n",
      "Epoch 123/1000\n",
      "22/22 [==============================] - 0s 15ms/step - loss: 0.3442 - accuracy: 0.8574 - val_loss: 0.3267 - val_accuracy: 0.8636\n",
      "Epoch 124/1000\n",
      "22/22 [==============================] - 0s 15ms/step - loss: 0.3436 - accuracy: 0.8573 - val_loss: 0.3245 - val_accuracy: 0.8641\n",
      "Epoch 125/1000\n",
      "22/22 [==============================] - 0s 15ms/step - loss: 0.3443 - accuracy: 0.8584 - val_loss: 0.3352 - val_accuracy: 0.8630\n",
      "Epoch 126/1000\n",
      "22/22 [==============================] - 0s 15ms/step - loss: 0.3441 - accuracy: 0.8572 - val_loss: 0.3241 - val_accuracy: 0.8654\n",
      "Epoch 127/1000\n",
      "22/22 [==============================] - 0s 15ms/step - loss: 0.3456 - accuracy: 0.8566 - val_loss: 0.3293 - val_accuracy: 0.8646\n",
      "Epoch 128/1000\n",
      "22/22 [==============================] - 0s 15ms/step - loss: 0.3431 - accuracy: 0.8577 - val_loss: 0.3259 - val_accuracy: 0.8656\n",
      "Epoch 129/1000\n",
      "22/22 [==============================] - 0s 15ms/step - loss: 0.3424 - accuracy: 0.8587 - val_loss: 0.3356 - val_accuracy: 0.8664\n",
      "Epoch 130/1000\n",
      "22/22 [==============================] - 0s 14ms/step - loss: 0.3470 - accuracy: 0.8572 - val_loss: 0.3290 - val_accuracy: 0.8631\n",
      "Epoch 131/1000\n",
      "22/22 [==============================] - 0s 15ms/step - loss: 0.3437 - accuracy: 0.8573 - val_loss: 0.3283 - val_accuracy: 0.8608\n",
      "Epoch 132/1000\n",
      "22/22 [==============================] - 0s 14ms/step - loss: 0.3416 - accuracy: 0.8577 - val_loss: 0.3241 - val_accuracy: 0.8655\n",
      "Epoch 133/1000\n",
      "22/22 [==============================] - 0s 15ms/step - loss: 0.3440 - accuracy: 0.8568 - val_loss: 0.3236 - val_accuracy: 0.8662\n",
      "Epoch 134/1000\n",
      "22/22 [==============================] - 0s 14ms/step - loss: 0.3439 - accuracy: 0.8573 - val_loss: 0.3237 - val_accuracy: 0.8654\n",
      "Epoch 135/1000\n",
      "22/22 [==============================] - 0s 15ms/step - loss: 0.3421 - accuracy: 0.8576 - val_loss: 0.3249 - val_accuracy: 0.8656\n",
      "Epoch 136/1000\n",
      "22/22 [==============================] - 0s 16ms/step - loss: 0.3415 - accuracy: 0.8579 - val_loss: 0.3245 - val_accuracy: 0.8645\n",
      "Epoch 137/1000\n",
      "22/22 [==============================] - 0s 15ms/step - loss: 0.3421 - accuracy: 0.8585 - val_loss: 0.3265 - val_accuracy: 0.8647\n",
      "Epoch 138/1000\n",
      "22/22 [==============================] - 0s 15ms/step - loss: 0.3437 - accuracy: 0.8584 - val_loss: 0.3245 - val_accuracy: 0.8635\n",
      "Epoch 139/1000\n",
      "22/22 [==============================] - 0s 14ms/step - loss: 0.3448 - accuracy: 0.8561 - val_loss: 0.3335 - val_accuracy: 0.8640\n",
      "Epoch 140/1000\n",
      "22/22 [==============================] - 0s 14ms/step - loss: 0.3446 - accuracy: 0.8575 - val_loss: 0.3370 - val_accuracy: 0.8639\n",
      "Epoch 141/1000\n",
      "22/22 [==============================] - 0s 15ms/step - loss: 0.3465 - accuracy: 0.8573 - val_loss: 0.3262 - val_accuracy: 0.8643\n",
      "Epoch 142/1000\n",
      "22/22 [==============================] - 0s 14ms/step - loss: 0.3450 - accuracy: 0.8580 - val_loss: 0.3266 - val_accuracy: 0.8646\n",
      "Epoch 143/1000\n",
      "22/22 [==============================] - 0s 14ms/step - loss: 0.3447 - accuracy: 0.8580 - val_loss: 0.3304 - val_accuracy: 0.8665\n",
      "Epoch 144/1000\n",
      "22/22 [==============================] - 0s 15ms/step - loss: 0.3430 - accuracy: 0.8576 - val_loss: 0.3259 - val_accuracy: 0.8645\n",
      "Epoch 145/1000\n",
      "22/22 [==============================] - 0s 15ms/step - loss: 0.3429 - accuracy: 0.8568 - val_loss: 0.3253 - val_accuracy: 0.8649\n",
      "Epoch 146/1000\n",
      "22/22 [==============================] - 0s 15ms/step - loss: 0.3426 - accuracy: 0.8576 - val_loss: 0.3275 - val_accuracy: 0.8647\n",
      "Epoch 147/1000\n",
      "22/22 [==============================] - 0s 15ms/step - loss: 0.3459 - accuracy: 0.8561 - val_loss: 0.3236 - val_accuracy: 0.8663\n",
      "Epoch 148/1000\n",
      "22/22 [==============================] - 0s 15ms/step - loss: 0.3435 - accuracy: 0.8568 - val_loss: 0.3276 - val_accuracy: 0.8647\n",
      "Epoch 149/1000\n",
      "22/22 [==============================] - 0s 15ms/step - loss: 0.3449 - accuracy: 0.8574 - val_loss: 0.3350 - val_accuracy: 0.8531\n",
      "Epoch 150/1000\n",
      "22/22 [==============================] - 0s 15ms/step - loss: 0.3436 - accuracy: 0.8576 - val_loss: 0.3284 - val_accuracy: 0.8657\n",
      "Epoch 151/1000\n",
      "22/22 [==============================] - 0s 15ms/step - loss: 0.3470 - accuracy: 0.8568 - val_loss: 0.3303 - val_accuracy: 0.8640\n",
      "Epoch 152/1000\n",
      "22/22 [==============================] - 0s 15ms/step - loss: 0.3578 - accuracy: 0.8562 - val_loss: 0.3362 - val_accuracy: 0.8574\n",
      "Epoch 153/1000\n",
      "22/22 [==============================] - 0s 15ms/step - loss: 0.3509 - accuracy: 0.8557 - val_loss: 0.3296 - val_accuracy: 0.8643\n",
      "Epoch 154/1000\n",
      "22/22 [==============================] - 0s 15ms/step - loss: 0.3454 - accuracy: 0.8575 - val_loss: 0.3282 - val_accuracy: 0.8642\n",
      "Epoch 155/1000\n",
      "22/22 [==============================] - 0s 15ms/step - loss: 0.3469 - accuracy: 0.8556 - val_loss: 0.3253 - val_accuracy: 0.8631\n",
      "Epoch 156/1000\n",
      "22/22 [==============================] - 0s 14ms/step - loss: 0.3447 - accuracy: 0.8575 - val_loss: 0.3248 - val_accuracy: 0.8647\n",
      "Epoch 157/1000\n",
      "22/22 [==============================] - 0s 15ms/step - loss: 0.3457 - accuracy: 0.8575 - val_loss: 0.3408 - val_accuracy: 0.8648\n",
      "Epoch 158/1000\n",
      "22/22 [==============================] - 0s 15ms/step - loss: 0.3447 - accuracy: 0.8578 - val_loss: 0.3295 - val_accuracy: 0.8640\n",
      "Epoch 159/1000\n",
      "22/22 [==============================] - 0s 15ms/step - loss: 0.3467 - accuracy: 0.8562 - val_loss: 0.3257 - val_accuracy: 0.8661\n",
      "Epoch 160/1000\n",
      "22/22 [==============================] - 0s 14ms/step - loss: 0.3441 - accuracy: 0.8576 - val_loss: 0.3268 - val_accuracy: 0.8669\n",
      "Epoch 161/1000\n",
      "22/22 [==============================] - 0s 14ms/step - loss: 0.3452 - accuracy: 0.8581 - val_loss: 0.3272 - val_accuracy: 0.8670\n",
      "Epoch 162/1000\n",
      "22/22 [==============================] - 0s 16ms/step - loss: 0.3454 - accuracy: 0.8582 - val_loss: 0.3248 - val_accuracy: 0.8653\n"
     ]
    }
   ],
   "source": [
    "history = nn_model.fit(x_t, y_tr.values, epochs=1000, batch_size=5000, validation_data=[x_te, y_val.values], callbacks=[early])"
   ]
  },
  {
   "cell_type": "code",
   "execution_count": 89,
   "id": "097bf40b-e3f5-4d78-beb5-c19c0233167c",
   "metadata": {},
   "outputs": [
    {
     "name": "stdout",
     "output_type": "stream",
     "text": [
      "1032/1032 [==============================] - 1s 665us/step - loss: 0.3258 - accuracy: 0.8628\n",
      "Accuracy: 0.8627563714981079\n",
      "Loss: 0.32581159472465515\n"
     ]
    }
   ],
   "source": [
    "loss, accuracy = nn_model.evaluate(tfm.transform(x_test), y_test, verbose=1)\n",
    "print(f\"Accuracy: {accuracy}\")\n",
    "print(f\"Loss: {loss}\")"
   ]
  },
  {
   "cell_type": "code",
   "execution_count": 93,
   "id": "ef11b54d-131b-4d57-83e9-757613cbffb4",
   "metadata": {},
   "outputs": [
    {
     "name": "stdout",
     "output_type": "stream",
     "text": [
      "1032/1032 [==============================] - 1s 526us/step\n"
     ]
    }
   ],
   "source": [
    "y_pred = np.round(nn_model.predict(tfm.transform(x_test), verbose=1))"
   ]
  },
  {
   "cell_type": "code",
   "execution_count": 94,
   "id": "9c3b83ba-d430-4cd2-8b91-0b89f1ef3742",
   "metadata": {},
   "outputs": [
    {
     "name": "stdout",
     "output_type": "stream",
     "text": [
      "\tPositive\tNegative\t(Predicted)\n",
      "True\t3612\t\t3372\n",
      "False\t1158\t\t24865\n",
      "Actual\n",
      "\n",
      "+--------------+\n",
      "+----Metrics---+\n",
      "+--------------+\n",
      "Accuracy: 0.862756\n",
      "Precision: 0.757233\n",
      "Recall: 0.517182\n",
      "F1-score: 0.614599\n"
     ]
    }
   ],
   "source": [
    "tn, fp, fn, tp = confusion_matrix(y_test, y_pred).ravel()\n",
    "print(\"\\tPositive\\tNegative\\t(Predicted)\")\n",
    "print(f\"True\\t{tp}\\t\\t{fn}\")\n",
    "print(f\"False\\t{fp}\\t\\t{tn}\")\n",
    "print(\"Actual\")\n",
    "print(\"\\n+--------------+\")\n",
    "print(\"+----Metrics---+\")\n",
    "print(\"+--------------+\")\n",
    "\n",
    "print(\"Accuracy: %.6f\" % accuracy_score(y_test, y_pred))\n",
    "print(\"Precision: %.6f\" % precision_score(y_test, y_pred))\n",
    "print(\"Recall: %.6f\" % recall_score(y_test, y_pred))\n",
    "print(\"F1-score: %.6f\" % f1_score(y_test, y_pred))"
   ]
  },
  {
   "cell_type": "code",
   "execution_count": 90,
   "id": "39409ee5-dc08-4605-b49f-7e2bb7d81683",
   "metadata": {},
   "outputs": [
    {
     "data": {
      "image/png": "[encoded data removed]",
      "text/plain": [
       "<Figure size 1200x400 with 2 Axes>"
      ]
     },
     "metadata": {},
     "output_type": "display_data"
    }
   ],
   "source": [
    "import matplotlib.pyplot as plt\n",
    "\n",
    "plt.figure(figsize=(12,4))\n",
    "plt.subplot(1, 2, 1)\n",
    "plt.plot(history.history[\"accuracy\"])\n",
    "plt.plot(history.history[\"val_accuracy\"])\n",
    "plt.title(\"Model Accuracy\")\n",
    "plt.ylabel(\"Accuracy\")\n",
    "plt.xlabel(\"Epoch\")\n",
    "plt.legend([\"Train\", \"Validation\"], loc=\"upper left\")\n",
    "\n",
    "plt.subplot(1, 2, 2)\n",
    "plt.plot(history.history[\"loss\"])\n",
    "plt.plot(history.history[\"val_loss\"])\n",
    "plt.title(\"Model Loss\")\n",
    "plt.ylabel(\"Loss\")\n",
    "plt.xlabel(\"Epoch\")\n",
    "plt.legend([\"Train\", \"Validation\"], loc=\"upper left\")\n",
    "plt.show()"
   ]
  },
  {
   "cell_type": "markdown",
   "id": "866d3914-ecf4-4fa8-b0d0-763a60a89249",
   "metadata": {},
   "source": [
    "# Save Best Model"
   ]
  },
  {
   "cell_type": "code",
   "execution_count": 97,
   "id": "1a72ff40-8ce9-4c02-b935-048e96b6cac6",
   "metadata": {},
   "outputs": [],
   "source": [
    "modelFileName = 'models/bank.keras'\n",
    "nn_model.save(modelFileName)"
   ]
  },
  {
   "cell_type": "code",
   "execution_count": 108,
   "id": "9e14cb57-d800-4192-bf36-c33324606b6b",
   "metadata": {},
   "outputs": [
    {
     "data": {
      "text/plain": [
       "<lightgbm.basic.Booster at 0x28c0990b4f0>"
      ]
     },
     "execution_count": 108,
     "metadata": {},
     "output_type": "execute_result"
    }
   ],
   "source": [
    "gbm.save_model(\"./models/model.pkl\", num_iteration=gbm.best_iteration)"
   ]
  }
 ],
 "metadata": {
  "kernelspec": {
   "display_name": "Python 3 (ipykernel)",
   "language": "python",
   "name": "python3"
  },
  "language_info": {
   "codemirror_mode": {
    "name": "ipython",
    "version": 3
   },
   "file_extension": ".py",
   "mimetype": "text/x-python",
   "name": "python",
   "nbconvert_exporter": "python",
   "pygments_lexer": "ipython3",
   "version": "3.9.13"
  }
 },
 "nbformat": 4,
 "nbformat_minor": 5
}
